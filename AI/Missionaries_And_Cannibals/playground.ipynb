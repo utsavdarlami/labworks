{
 "cells": [
  {
   "cell_type": "code",
   "execution_count": 116,
   "metadata": {},
   "outputs": [],
   "source": [
    "\"\"\"\n",
    "Represent the state space for the well-known Missionaries and Cannibals Game and generate it.\n",
    "\"\"\"\n",
    "\n",
    "import numpy as np\n",
    "from collections import defaultdict\n"
   ]
  },
  {
   "cell_type": "code",
   "execution_count": 399,
   "metadata": {},
   "outputs": [],
   "source": [
    "\"\"\"\n",
    "For representing the state space\n",
    "it's edges will be the actions \n",
    "the neighbours of a node(state) will be the next state\n",
    "\"\"\"\n",
    "class Graph():\n",
    "    def __init__(self):\n",
    "        self.graph = defaultdict(list)\n",
    "\n",
    "    def add_edges(self, node1, node2, action):\n",
    "        \"\"\" add n1 to n2 edge with its label \"\"\"\n",
    "        self.graph[node1].append({action: node2})\n",
    "    \n",
    "#     def add_edges(self, node1, node2):\n",
    "#         \"\"\" add n1 to n2 edge \"\"\"\n",
    "#         self.graph[node1].append(node2)\n",
    "\n",
    "#     def get_nodes(self, state):\n",
    "#         return self.graph[state]\n",
    "\n",
    "    def get_nodes(self, state):\n",
    "        nodes = []\n",
    "        node_data = self.graph[state]\n",
    "        for node in node_data:\n",
    "            nodes.append(*node.values())    \n",
    "        return nodes\n",
    "    \n",
    "    def get_nodes_and_edge_name(self, state):\n",
    "\n",
    "        node_data = self.graph[state]\n",
    "        nodes = []\n",
    "        edge_names = []\n",
    "        \n",
    "        for n in node_data:\n",
    "            nodes.append(*n.values())\n",
    "            edge_names.append(*n.keys())\n",
    "            \n",
    "        return edge_names, nodes\n",
    "    \n",
    "    def show(self):\n",
    "        print(self.graph)\n"
   ]
  },
  {
   "cell_type": "code",
   "execution_count": 319,
   "metadata": {},
   "outputs": [],
   "source": [
    "INITIAL_STATE = [3, 3, 1]  # M, C and B\n",
    "GOAL = [0, 0, 0]\n",
    "ACTIONS = [\n",
    "    [1, 0, 1],\n",
    "    [2, 0, 1],\n",
    "    [0, 1, 1],\n",
    "    [0, 2, 1],\n",
    "    [1, 1, 1],\n",
    "    ]\n",
    "\n",
    "# VISITED = []\n",
    "# PATHS = []\n"
   ]
  },
  {
   "cell_type": "code",
   "execution_count": 401,
   "metadata": {},
   "outputs": [],
   "source": [
    "def illegal_state(state):\n",
    "    \"\"\"\n",
    "    If C > M then it's illegal\n",
    "    \"\"\"\n",
    "    # if sata\n",
    "    if state[1] > state[0]:\n",
    "        return True\n",
    "    if state[0] < 0 or state[0] > 3:\n",
    "        return True\n",
    "    if state[1] < 0 or state[1] > 3:\n",
    "        return True\n",
    "\n",
    "    return False\n",
    "\n",
    "\n",
    "# def goal_reached(state):\n",
    "#     \"\"\"\n",
    "#     current state == goal state 0,0,0\n",
    "#     \"\"\"\n",
    "#     return state == GOAL\n",
    "\n",
    "\n",
    "def get_new_state(state, action):\n",
    "    \"\"\"\n",
    "    vector subtraction/addition to get the new state\n",
    "    \"\"\"\n",
    "    if state[2] == 1: # boat is in the initial side\n",
    "        return list(np.asarray(state) - np.asarray(action))\n",
    "    return list(np.asarray(state) + np.asarray(action))\n"
   ]
  },
  {
   "cell_type": "code",
   "execution_count": 451,
   "metadata": {},
   "outputs": [],
   "source": [
    "def node_name(state):\n",
    "    \"\"\"\n",
    "    Converting list state to string\n",
    "    eg. [3, 3, 1] == 3M3C1B\n",
    "    \"\"\"\n",
    "\n",
    "    nm = \"\"\n",
    "    nm += str(state[0]) + \"M\"\n",
    "    nm += str(state[1]) + \"C\"    \n",
    "    nm += str(state[2]) + \"B\"\n",
    "    return nm"
   ]
  },
  {
   "cell_type": "code",
   "execution_count": 455,
   "metadata": {},
   "outputs": [
    {
     "data": {
      "text/plain": [
       "'3M2C1B'"
      ]
     },
     "execution_count": 455,
     "metadata": {},
     "output_type": "execute_result"
    }
   ],
   "source": [
    "node = node_name([3,2,1])\n",
    "node"
   ]
  },
  {
   "cell_type": "code",
   "execution_count": 403,
   "metadata": {},
   "outputs": [],
   "source": [
    "# def add_to_graph(state):\n",
    "#     \"\"\"\n",
    "#      move from\n",
    "#     \"\"\"\n",
    "#     global GRAPH\n",
    "#     # GRAPH[''.join(state)] = []\n",
    "#     for action in ACTIONS:\n",
    "# #         n1 = ''.join(map(str, state))\n",
    "#         n1 = node_name(state)\n",
    "# #         n1 = state\n",
    "#         n2 = get_new_state(state, action)\n",
    "#         if not(illegal_state(n2)):\n",
    "#             GRAPH.add_edges(n1, n2)\n",
    "\n",
    "def add_to_graph_with_action(state):\n",
    "    \"\"\"\n",
    "    Add the state and the new state to the graph,\n",
    "    obtained from the actions only if it is legal\n",
    "    \"\"\"\n",
    "\n",
    "    global GRAPH\n",
    "    # GRAPH[''.join(state)] = []\n",
    "    for action in ACTIONS:\n",
    "#         n1 = ''.join(map(str, state))\n",
    "        n1 = node_name(state)\n",
    "        n2 = get_new_state(state, action)\n",
    "        if not(illegal_state(n2)):\n",
    "#             GRAPH.add_edges_with_action(n1, n2, ''.join(map(str, action)))\n",
    "            GRAPH.add_edges(n1, n2, node_name(action))\n"
   ]
  },
  {
   "cell_type": "markdown",
   "metadata": {},
   "source": [
    "### Creating Graph with no actions shown\n",
    "- nodes and edges only"
   ]
  },
  {
   "cell_type": "code",
   "execution_count": 290,
   "metadata": {},
   "outputs": [],
   "source": [
    "# \"\"\"\n",
    "# Need to perform DFS over each possible no\n",
    "# \"\"\"\n",
    "\n",
    "\n",
    "# GRAPH = Graph()\n",
    "\n",
    "# # add_to_graph(INITIAL_STATE)\n",
    "# # GRAPH.show()\n",
    "\n",
    "# STACK = [INITIAL_STATE]\n",
    "# # VISITED = [[3, 3, 1]]\n",
    "# VISITED = []\n",
    "# # STACK = GRAPH.get_nodes('331')\n",
    "\n",
    "# while STACK != []:\n",
    "    \n",
    "#     current_state = STACK[-1]\n",
    "    \n",
    "#     if goal_reached(current_state):\n",
    "#         break\n",
    "        \n",
    "#     if current_state not in VISITED:\n",
    "#         VISITED.append(current_state)\n",
    "#         add_to_graph(current_state)\n",
    "# #         add_to_graph_with_action(current_state)\n",
    "#         _ = STACK.pop() # poping the current state from the stack\n",
    "\n",
    "# #         STACK.extend(GRAPH.get_nodes(''.join(map(str, current_state)))) \n",
    "#         STACK.extend(GRAPH.get_nodes(node_name(current_state)))\n",
    "\n",
    "#     else:\n",
    "#         \"\"\"\n",
    "#             it looks like the current state is already traversed so, \n",
    "#             poping it\n",
    "#         \"\"\"\n",
    "#         _ = STACK.pop()\n",
    "\n",
    "\n",
    "# #     STACK = []\n",
    "\n",
    "# # GRAPH.show()\n",
    "\n",
    "# print(\"Done\")"
   ]
  },
  {
   "cell_type": "code",
   "execution_count": 291,
   "metadata": {},
   "outputs": [],
   "source": [
    "# GRAPH.graph"
   ]
  },
  {
   "cell_type": "markdown",
   "metadata": {},
   "source": [
    "### Graph with actions\n",
    "- nodes , edge weight  and edge"
   ]
  },
  {
   "cell_type": "code",
   "execution_count": 465,
   "metadata": {},
   "outputs": [
    {
     "name": "stdout",
     "output_type": "stream",
     "text": [
      "Done\n"
     ]
    }
   ],
   "source": [
    "GRAPH = Graph() # For representing the state space\n",
    "\n",
    "# add_to_graph(INITIAL_STATE)\n",
    "# GRAPH.show()\n",
    "\n",
    "STACK = [INITIAL_STATE]\n",
    "VISITED = []\n",
    "\n",
    "while STACK != []:\n",
    "    \n",
    "    current_state = STACK[-1]\n",
    "    \n",
    "    if current_state not in VISITED:\n",
    "        VISITED.append(current_state)\n",
    "        add_to_graph_with_action(current_state)\n",
    "        _ = STACK.pop() # poping the current state from the stack\n",
    "\n",
    "#         node_data = GRAPH.get_nodes(node_name(current_state))\n",
    "#         STACK.extend(GRAPH.get_edges(''.join(map(str, current_state))))\n",
    "\n",
    "        STACK.extend(GRAPH.get_nodes(node_name(current_state)))\n",
    "\n",
    "#         print(node_data)\n",
    "\n",
    "    else:\n",
    "        \"\"\"\n",
    "            it looks like the current state is already traversed so, \n",
    "            poping it\n",
    "        \"\"\"\n",
    "        _ = STACK.pop()\n",
    "\n",
    "\n",
    "#     STACK = []\n",
    "\n",
    "print(\"Done\")"
   ]
  },
  {
   "cell_type": "code",
   "execution_count": 421,
   "metadata": {},
   "outputs": [
    {
     "data": {
      "text/plain": [
       "[[3, 3, 1],\n",
       " [2, 2, 0],\n",
       " [3, 2, 1],\n",
       " [2, 1, 0],\n",
       " [2, 2, 1],\n",
       " [1, 1, 0],\n",
       " [3, 1, 1],\n",
       " [2, 0, 0],\n",
       " [2, 1, 1],\n",
       " [1, 0, 0],\n",
       " [1, 1, 1],\n",
       " [0, 0, 0],\n",
       " [2, 0, 1],\n",
       " [1, 0, 1],\n",
       " [3, 0, 1],\n",
       " [3, 0, 0],\n",
       " [3, 1, 0],\n",
       " [3, 2, 0]]"
      ]
     },
     "execution_count": 421,
     "metadata": {},
     "output_type": "execute_result"
    }
   ],
   "source": [
    "VISITED"
   ]
  },
  {
   "cell_type": "code",
   "execution_count": 422,
   "metadata": {},
   "outputs": [
    {
     "data": {
      "text/plain": [
       "[]"
      ]
     },
     "execution_count": 422,
     "metadata": {},
     "output_type": "execute_result"
    }
   ],
   "source": [
    "STACK"
   ]
  },
  {
   "cell_type": "code",
   "execution_count": 466,
   "metadata": {},
   "outputs": [
    {
     "data": {
      "text/plain": [
       "defaultdict(list,\n",
       "            {'3M3C1B': [{'0M1C1B': [3, 2, 0]},\n",
       "              {'0M2C1B': [3, 1, 0]},\n",
       "              {'1M1C1B': [2, 2, 0]}],\n",
       "             '2M2C0B': [{'1M0C1B': [3, 2, 1]}, {'1M1C1B': [3, 3, 1]}],\n",
       "             '3M2C1B': [{'1M0C1B': [2, 2, 0]},\n",
       "              {'0M1C1B': [3, 1, 0]},\n",
       "              {'0M2C1B': [3, 0, 0]},\n",
       "              {'1M1C1B': [2, 1, 0]}],\n",
       "             '2M1C0B': [{'1M0C1B': [3, 1, 1]},\n",
       "              {'0M1C1B': [2, 2, 1]},\n",
       "              {'1M1C1B': [3, 2, 1]}],\n",
       "             '2M2C1B': [{'0M1C1B': [2, 1, 0]},\n",
       "              {'0M2C1B': [2, 0, 0]},\n",
       "              {'1M1C1B': [1, 1, 0]}],\n",
       "             '1M1C0B': [{'1M0C1B': [2, 1, 1]},\n",
       "              {'2M0C1B': [3, 1, 1]},\n",
       "              {'1M1C1B': [2, 2, 1]}],\n",
       "             '3M1C1B': [{'1M0C1B': [2, 1, 0]},\n",
       "              {'2M0C1B': [1, 1, 0]},\n",
       "              {'0M1C1B': [3, 0, 0]},\n",
       "              {'1M1C1B': [2, 0, 0]}],\n",
       "             '2M0C0B': [{'1M0C1B': [3, 0, 1]},\n",
       "              {'0M1C1B': [2, 1, 1]},\n",
       "              {'0M2C1B': [2, 2, 1]},\n",
       "              {'1M1C1B': [3, 1, 1]}],\n",
       "             '2M1C1B': [{'1M0C1B': [1, 1, 0]},\n",
       "              {'0M1C1B': [2, 0, 0]},\n",
       "              {'1M1C1B': [1, 0, 0]}],\n",
       "             '1M0C0B': [{'1M0C1B': [2, 0, 1]},\n",
       "              {'2M0C1B': [3, 0, 1]},\n",
       "              {'0M1C1B': [1, 1, 1]},\n",
       "              {'1M1C1B': [2, 1, 1]}],\n",
       "             '1M1C1B': [{'0M1C1B': [1, 0, 0]}, {'1M1C1B': [0, 0, 0]}],\n",
       "             '0M0C0B': [{'1M0C1B': [1, 0, 1]},\n",
       "              {'2M0C1B': [2, 0, 1]},\n",
       "              {'1M1C1B': [1, 1, 1]}],\n",
       "             '2M0C1B': [{'1M0C1B': [1, 0, 0]}, {'2M0C1B': [0, 0, 0]}],\n",
       "             '1M0C1B': [{'1M0C1B': [0, 0, 0]}],\n",
       "             '3M0C1B': [{'1M0C1B': [2, 0, 0]}, {'2M0C1B': [1, 0, 0]}],\n",
       "             '3M0C0B': [{'0M1C1B': [3, 1, 1]}, {'0M2C1B': [3, 2, 1]}],\n",
       "             '3M1C0B': [{'0M1C1B': [3, 2, 1]}, {'0M2C1B': [3, 3, 1]}],\n",
       "             '3M2C0B': [{'0M1C1B': [3, 3, 1]}]})"
      ]
     },
     "execution_count": 466,
     "metadata": {},
     "output_type": "execute_result"
    }
   ],
   "source": [
    "GRAPH.graph"
   ]
  },
  {
   "cell_type": "markdown",
   "metadata": {},
   "source": [
    "### Depth First Search"
   ]
  },
  {
   "cell_type": "code",
   "execution_count": 454,
   "metadata": {},
   "outputs": [
    {
     "data": {
      "text/plain": [
       "[[1, 0, 0], [0, 0, 0]]"
      ]
     },
     "execution_count": 454,
     "metadata": {},
     "output_type": "execute_result"
    }
   ],
   "source": [
    "GRAPH.get_nodes(\"1M1C1B\")"
   ]
  },
  {
   "cell_type": "code",
   "execution_count": 487,
   "metadata": {},
   "outputs": [],
   "source": [
    "def dfs(visited, graph, node):  #function for dfs \n",
    "    node = node_name(node)\n",
    "    if node not in visited:\n",
    "#         print(node)\n",
    "        visited.add(node)\n",
    "        for neighbour in graph.get_nodes(node):\n",
    "            dfs(visited, graph, neighbour)"
   ]
  },
  {
   "cell_type": "code",
   "execution_count": 488,
   "metadata": {},
   "outputs": [
    {
     "data": {
      "text/plain": [
       "{'0M0C0B',\n",
       " '1M0C0B',\n",
       " '1M0C1B',\n",
       " '1M1C0B',\n",
       " '1M1C1B',\n",
       " '2M0C0B',\n",
       " '2M0C1B',\n",
       " '2M1C0B',\n",
       " '2M1C1B',\n",
       " '2M2C0B',\n",
       " '2M2C1B',\n",
       " '3M0C0B',\n",
       " '3M0C1B',\n",
       " '3M1C0B',\n",
       " '3M1C1B',\n",
       " '3M2C0B',\n",
       " '3M2C1B',\n",
       " '3M3C1B'}"
      ]
     },
     "execution_count": 488,
     "metadata": {},
     "output_type": "execute_result"
    }
   ],
   "source": [
    "visited = set() # Set to keep track of visited nodes of graph.\n",
    "dfs(visited, GRAPH, [3, 3, 1])\n",
    "visited"
   ]
  },
  {
   "cell_type": "code",
   "execution_count": 150,
   "metadata": {},
   "outputs": [
    {
     "name": "stdout",
     "output_type": "stream",
     "text": [
      "[3, 2, 0]\n",
      "[3, 1, 0]\n",
      "[2, 2, 0]\n"
     ]
    }
   ],
   "source": [
    "for node in node_data:\n",
    "    print(*node.values())    \n",
    "# "
   ]
  },
  {
   "cell_type": "code",
   "execution_count": 158,
   "metadata": {},
   "outputs": [
    {
     "data": {
      "text/plain": [
       "[[3, 3, 1],\n",
       " [2, 2, 0],\n",
       " [3, 2, 1],\n",
       " [2, 1, 0],\n",
       " [2, 2, 1],\n",
       " [1, 1, 0],\n",
       " [3, 1, 1],\n",
       " [2, 0, 0],\n",
       " [2, 1, 1],\n",
       " [1, 0, 0],\n",
       " [1, 1, 1]]"
      ]
     },
     "execution_count": 158,
     "metadata": {},
     "output_type": "execute_result"
    }
   ],
   "source": [
    "VISITED"
   ]
  },
  {
   "cell_type": "markdown",
   "metadata": {},
   "source": [
    "# Graphviz\n",
    "- Plotting the state space "
   ]
  },
  {
   "cell_type": "code",
   "execution_count": 338,
   "metadata": {},
   "outputs": [],
   "source": [
    "from graphviz import Digraph"
   ]
  },
  {
   "cell_type": "code",
   "execution_count": 376,
   "metadata": {},
   "outputs": [
    {
     "data": {
      "image/svg+xml": [
       "<?xml version=\"1.0\" encoding=\"UTF-8\" standalone=\"no\"?>\n",
       "<!DOCTYPE svg PUBLIC \"-//W3C//DTD SVG 1.1//EN\"\n",
       " \"http://www.w3.org/Graphics/SVG/1.1/DTD/svg11.dtd\">\n",
       "<!-- Generated by graphviz version 2.46.1 (0)\n",
       " -->\n",
       "<!-- Pages: 1 -->\n",
       "<svg width=\"51pt\" height=\"72pt\"\n",
       " viewBox=\"0.00 0.00 50.96 72.00\" xmlns=\"http://www.w3.org/2000/svg\" xmlns:xlink=\"http://www.w3.org/1999/xlink\">\n",
       "<g id=\"graph0\" class=\"graph\" transform=\"scale(0.51 0.51) rotate(0) translate(4 138)\">\n",
       "<polygon fill=\"white\" stroke=\"transparent\" points=\"-4,4 -4,-138 96.5,-138 96.5,4 -4,4\"/>\n",
       "<!-- 2 -->\n",
       "<g id=\"node1\" class=\"node\">\n",
       "<title>2</title>\n",
       "<ellipse fill=\"none\" stroke=\"black\" cx=\"45\" cy=\"-112\" rx=\"18\" ry=\"18\"/>\n",
       "<ellipse fill=\"none\" stroke=\"black\" cx=\"45\" cy=\"-112\" rx=\"22\" ry=\"22\"/>\n",
       "<text text-anchor=\"middle\" x=\"45\" y=\"-108.3\" font-family=\"Times,serif\" font-size=\"14.00\">2</text>\n",
       "</g>\n",
       "<!-- 4 -->\n",
       "<g id=\"node2\" class=\"node\">\n",
       "<title>4</title>\n",
       "<ellipse fill=\"none\" stroke=\"black\" cx=\"18\" cy=\"-19.5\" rx=\"18\" ry=\"18\"/>\n",
       "<text text-anchor=\"middle\" x=\"18\" y=\"-15.8\" font-family=\"Times,serif\" font-size=\"14.00\">4</text>\n",
       "</g>\n",
       "<!-- 2&#45;&gt;4 -->\n",
       "<g id=\"edge1\" class=\"edge\">\n",
       "<title>2&#45;&gt;4</title>\n",
       "<path fill=\"none\" stroke=\"black\" d=\"M38.87,-90.46C35.03,-77.58 30.04,-60.84 25.9,-46.97\"/>\n",
       "<polygon fill=\"black\" stroke=\"black\" points=\"29.14,-45.61 22.93,-37.03 22.44,-47.61 29.14,-45.61\"/>\n",
       "<text text-anchor=\"middle\" x=\"41\" y=\"-60.8\" font-family=\"Times,serif\" font-size=\"14.00\">^2</text>\n",
       "</g>\n",
       "<!-- 16 -->\n",
       "<g id=\"node3\" class=\"node\">\n",
       "<title>16</title>\n",
       "<ellipse fill=\"none\" stroke=\"black\" cx=\"73\" cy=\"-19.5\" rx=\"19.5\" ry=\"19.5\"/>\n",
       "<text text-anchor=\"middle\" x=\"73\" y=\"-15.8\" font-family=\"Times,serif\" font-size=\"14.00\">16</text>\n",
       "</g>\n",
       "<!-- 2&#45;&gt;16 -->\n",
       "<g id=\"edge2\" class=\"edge\">\n",
       "<title>2&#45;&gt;16</title>\n",
       "<path fill=\"none\" stroke=\"black\" d=\"M51.35,-90.46C55.21,-77.99 60.19,-61.92 64.39,-48.32\"/>\n",
       "<polygon fill=\"black\" stroke=\"black\" points=\"67.82,-49.09 67.43,-38.5 61.13,-47.02 67.82,-49.09\"/>\n",
       "<text text-anchor=\"middle\" x=\"68\" y=\"-60.8\" font-family=\"Times,serif\" font-size=\"14.00\">^4</text>\n",
       "</g>\n",
       "</g>\n",
       "</svg>\n"
      ],
      "text/plain": [
       "<graphviz.dot.Digraph at 0x7f9c6eec4fa0>"
      ]
     },
     "execution_count": 376,
     "metadata": {},
     "output_type": "execute_result"
    }
   ],
   "source": [
    "## Example of graphviz digraph\n",
    "f = Digraph()\n",
    "f.attr(size='2,1')\n",
    "\n",
    "f.attr('node', shape='doublecircle')\n",
    "f.node('2')\n",
    "# f.node('LR_3')\n",
    "\n",
    "\n",
    "f.attr('node', shape='circle')\n",
    "f.edge('2', '4', label='^2')\n",
    "f.edge('2', '16', label='^4')\n",
    "# f.edge('LR_1', 'LR_3', label='S($end)')\n",
    "\n",
    "f"
   ]
  },
  {
   "cell_type": "code",
   "execution_count": 467,
   "metadata": {},
   "outputs": [
    {
     "data": {
      "text/plain": [
       "['3M3C1B',\n",
       " '2M2C0B',\n",
       " '3M2C1B',\n",
       " '2M1C0B',\n",
       " '2M2C1B',\n",
       " '1M1C0B',\n",
       " '3M1C1B',\n",
       " '2M0C0B',\n",
       " '2M1C1B',\n",
       " '1M0C0B',\n",
       " '1M1C1B',\n",
       " '0M0C0B',\n",
       " '2M0C1B',\n",
       " '1M0C1B',\n",
       " '3M0C1B',\n",
       " '3M0C0B',\n",
       " '3M1C0B',\n",
       " '3M2C0B']"
      ]
     },
     "execution_count": 467,
     "metadata": {},
     "output_type": "execute_result"
    }
   ],
   "source": [
    "nodes = []\n",
    "nodes = list(GRAPH.graph.keys())\n",
    "nodes"
   ]
  },
  {
   "cell_type": "code",
   "execution_count": 470,
   "metadata": {},
   "outputs": [
    {
     "data": {
      "image/svg+xml": [
       "<?xml version=\"1.0\" encoding=\"UTF-8\" standalone=\"no\"?>\n",
       "<!DOCTYPE svg PUBLIC \"-//W3C//DTD SVG 1.1//EN\"\n",
       " \"http://www.w3.org/Graphics/SVG/1.1/DTD/svg11.dtd\">\n",
       "<!-- Generated by graphviz version 2.46.1 (0)\n",
       " -->\n",
       "<!-- Pages: 1 -->\n",
       "<svg width=\"104pt\" height=\"104pt\"\n",
       " viewBox=\"0.00 0.00 104.39 104.39\" xmlns=\"http://www.w3.org/2000/svg\" xmlns:xlink=\"http://www.w3.org/1999/xlink\">\n",
       "<g id=\"graph0\" class=\"graph\" transform=\"scale(1 1) rotate(0) translate(4 100.39)\">\n",
       "<polygon fill=\"white\" stroke=\"transparent\" points=\"-4,4 -4,-100.39 100.39,-100.39 100.39,4 -4,4\"/>\n",
       "<!-- 3M3C1B -->\n",
       "<g id=\"node1\" class=\"node\">\n",
       "<title>3M3C1B</title>\n",
       "<ellipse fill=\"none\" stroke=\"black\" cx=\"48.2\" cy=\"-48.2\" rx=\"44.38\" ry=\"44.38\"/>\n",
       "<ellipse fill=\"none\" stroke=\"black\" cx=\"48.2\" cy=\"-48.2\" rx=\"48.39\" ry=\"48.39\"/>\n",
       "<text text-anchor=\"middle\" x=\"48.2\" y=\"-44.5\" font-family=\"Times,serif\" font-size=\"14.00\">3M3C1B</text>\n",
       "</g>\n",
       "</g>\n",
       "</svg>\n"
      ],
      "text/plain": [
       "<graphviz.dot.Digraph at 0x7f9c6f9d6ca0>"
      ]
     },
     "execution_count": 470,
     "metadata": {},
     "output_type": "execute_result"
    }
   ],
   "source": [
    "f = Digraph()\n",
    "f.attr(size='3,4')\n",
    "\n",
    "f.attr('node', shape='doublecircle')\n",
    "f.node(nodes[0])\n",
    "# f.node('LR_3')\n",
    "f"
   ]
  },
  {
   "cell_type": "code",
   "execution_count": 468,
   "metadata": {},
   "outputs": [
    {
     "name": "stdout",
     "output_type": "stream",
     "text": [
      "3M3C1B\n",
      "3M3C1B -0M1C1B-> 3M2C0B\n",
      "3M3C1B -0M2C1B-> 3M1C0B\n",
      "3M3C1B -1M1C1B-> 2M2C0B\n",
      "---------------\n",
      "2M2C0B\n",
      "2M2C0B -1M0C1B-> 3M2C1B\n",
      "2M2C0B -1M1C1B-> 3M3C1B\n",
      "---------------\n",
      "3M2C1B\n",
      "3M2C1B -1M0C1B-> 2M2C0B\n",
      "3M2C1B -0M1C1B-> 3M1C0B\n",
      "3M2C1B -0M2C1B-> 3M0C0B\n",
      "3M2C1B -1M1C1B-> 2M1C0B\n",
      "---------------\n",
      "2M1C0B\n",
      "2M1C0B -1M0C1B-> 3M1C1B\n",
      "2M1C0B -0M1C1B-> 2M2C1B\n",
      "2M1C0B -1M1C1B-> 3M2C1B\n",
      "---------------\n",
      "2M2C1B\n",
      "2M2C1B -0M1C1B-> 2M1C0B\n",
      "2M2C1B -0M2C1B-> 2M0C0B\n",
      "2M2C1B -1M1C1B-> 1M1C0B\n",
      "---------------\n",
      "1M1C0B\n",
      "1M1C0B -1M0C1B-> 2M1C1B\n",
      "1M1C0B -2M0C1B-> 3M1C1B\n",
      "1M1C0B -1M1C1B-> 2M2C1B\n",
      "---------------\n",
      "3M1C1B\n",
      "3M1C1B -1M0C1B-> 2M1C0B\n",
      "3M1C1B -2M0C1B-> 1M1C0B\n",
      "3M1C1B -0M1C1B-> 3M0C0B\n",
      "3M1C1B -1M1C1B-> 2M0C0B\n",
      "---------------\n",
      "2M0C0B\n",
      "2M0C0B -1M0C1B-> 3M0C1B\n",
      "2M0C0B -0M1C1B-> 2M1C1B\n",
      "2M0C0B -0M2C1B-> 2M2C1B\n",
      "2M0C0B -1M1C1B-> 3M1C1B\n",
      "---------------\n",
      "2M1C1B\n",
      "2M1C1B -1M0C1B-> 1M1C0B\n",
      "2M1C1B -0M1C1B-> 2M0C0B\n",
      "2M1C1B -1M1C1B-> 1M0C0B\n",
      "---------------\n",
      "1M0C0B\n",
      "1M0C0B -1M0C1B-> 2M0C1B\n",
      "1M0C0B -2M0C1B-> 3M0C1B\n",
      "1M0C0B -0M1C1B-> 1M1C1B\n",
      "1M0C0B -1M1C1B-> 2M1C1B\n",
      "---------------\n",
      "1M1C1B\n",
      "1M1C1B -0M1C1B-> 1M0C0B\n",
      "1M1C1B -1M1C1B-> 0M0C0B\n",
      "---------------\n",
      "0M0C0B\n",
      "0M0C0B -1M0C1B-> 1M0C1B\n",
      "0M0C0B -2M0C1B-> 2M0C1B\n",
      "0M0C0B -1M1C1B-> 1M1C1B\n",
      "---------------\n",
      "2M0C1B\n",
      "2M0C1B -1M0C1B-> 1M0C0B\n",
      "2M0C1B -2M0C1B-> 0M0C0B\n",
      "---------------\n",
      "1M0C1B\n",
      "1M0C1B -1M0C1B-> 0M0C0B\n",
      "---------------\n",
      "3M0C1B\n",
      "3M0C1B -1M0C1B-> 2M0C0B\n",
      "3M0C1B -2M0C1B-> 1M0C0B\n",
      "---------------\n",
      "3M0C0B\n",
      "3M0C0B -0M1C1B-> 3M1C1B\n",
      "3M0C0B -0M2C1B-> 3M2C1B\n",
      "---------------\n",
      "3M1C0B\n",
      "3M1C0B -0M1C1B-> 3M2C1B\n",
      "3M1C0B -0M2C1B-> 3M3C1B\n",
      "---------------\n",
      "3M2C0B\n",
      "3M2C0B -0M1C1B-> 3M3C1B\n",
      "---------------\n"
     ]
    }
   ],
   "source": [
    "for node in nodes:\n",
    "    print(node)\n",
    "\n",
    "    edge_name, neighbours = GRAPH.get_nodes_and_edge_name(node)\n",
    "\n",
    "    for en,n in zip(edge_name, neighbours):\n",
    "        print(f\"{node} -{en}-> {node_name(n)}\")\n",
    "\n",
    "    print(\"---------------\")\n",
    "#     print(neighbours)\n",
    "#     print(edge_name)\n",
    "    \n",
    "#     break"
   ]
  },
  {
   "cell_type": "code",
   "execution_count": 469,
   "metadata": {},
   "outputs": [
    {
     "data": {
      "text/plain": [
       "['3M3C1B',\n",
       " '2M2C0B',\n",
       " '3M2C1B',\n",
       " '2M1C0B',\n",
       " '2M2C1B',\n",
       " '1M1C0B',\n",
       " '3M1C1B',\n",
       " '2M0C0B',\n",
       " '2M1C1B',\n",
       " '1M0C0B',\n",
       " '1M1C1B',\n",
       " '0M0C0B',\n",
       " '2M0C1B',\n",
       " '1M0C1B',\n",
       " '3M0C1B',\n",
       " '3M0C0B',\n",
       " '3M1C0B',\n",
       " '3M2C0B']"
      ]
     },
     "execution_count": 469,
     "metadata": {},
     "output_type": "execute_result"
    }
   ],
   "source": [
    "nodes"
   ]
  },
  {
   "cell_type": "code",
   "execution_count": 383,
   "metadata": {},
   "outputs": [
    {
     "data": {
      "image/svg+xml": [
       "<?xml version=\"1.0\" encoding=\"UTF-8\" standalone=\"no\"?>\n",
       "<!DOCTYPE svg PUBLIC \"-//W3C//DTD SVG 1.1//EN\"\n",
       " \"http://www.w3.org/Graphics/SVG/1.1/DTD/svg11.dtd\">\n",
       "<!-- Generated by graphviz version 2.46.1 (0)\n",
       " -->\n",
       "<!-- Pages: 1 -->\n",
       "<svg width=\"95pt\" height=\"95pt\"\n",
       " viewBox=\"0.00 0.00 95.29 95.29\" xmlns=\"http://www.w3.org/2000/svg\" xmlns:xlink=\"http://www.w3.org/1999/xlink\">\n",
       "<g id=\"graph0\" class=\"graph\" transform=\"scale(1 1) rotate(0) translate(4 91.29)\">\n",
       "<polygon fill=\"white\" stroke=\"transparent\" points=\"-4,4 -4,-91.29 91.29,-91.29 91.29,4 -4,4\"/>\n",
       "<!-- 3m3c1b -->\n",
       "<g id=\"node1\" class=\"node\">\n",
       "<title>3m3c1b</title>\n",
       "<ellipse fill=\"none\" stroke=\"black\" cx=\"43.65\" cy=\"-43.65\" rx=\"39.78\" ry=\"39.78\"/>\n",
       "<ellipse fill=\"none\" stroke=\"black\" cx=\"43.65\" cy=\"-43.65\" rx=\"43.79\" ry=\"43.79\"/>\n",
       "<text text-anchor=\"middle\" x=\"43.65\" y=\"-39.95\" font-family=\"Times,serif\" font-size=\"14.00\">3m3c1b</text>\n",
       "</g>\n",
       "</g>\n",
       "</svg>\n"
      ],
      "text/plain": [
       "<graphviz.dot.Digraph at 0x7f9c6eec4670>"
      ]
     },
     "execution_count": 383,
     "metadata": {},
     "output_type": "execute_result"
    }
   ],
   "source": [
    "f"
   ]
  },
  {
   "cell_type": "code",
   "execution_count": 384,
   "metadata": {},
   "outputs": [
    {
     "data": {
      "image/svg+xml": [
       "<?xml version=\"1.0\" encoding=\"UTF-8\" standalone=\"no\"?>\n",
       "<!DOCTYPE svg PUBLIC \"-//W3C//DTD SVG 1.1//EN\"\n",
       " \"http://www.w3.org/Graphics/SVG/1.1/DTD/svg11.dtd\">\n",
       "<!-- Generated by graphviz version 2.46.1 (0)\n",
       " -->\n",
       "<!-- Pages: 1 -->\n",
       "<svg width=\"216pt\" height=\"173pt\"\n",
       " viewBox=\"0.00 0.00 216.00 173.22\" xmlns=\"http://www.w3.org/2000/svg\" xmlns:xlink=\"http://www.w3.org/1999/xlink\">\n",
       "<g id=\"graph0\" class=\"graph\" transform=\"scale(0.77 0.77) rotate(0) translate(4 221.59)\">\n",
       "<polygon fill=\"white\" stroke=\"transparent\" points=\"-4,4 -4,-221.59 277.29,-221.59 277.29,4 -4,4\"/>\n",
       "<!-- 3m3c1b -->\n",
       "<g id=\"node1\" class=\"node\">\n",
       "<title>3m3c1b</title>\n",
       "<ellipse fill=\"none\" stroke=\"black\" cx=\"136.65\" cy=\"-173.94\" rx=\"39.78\" ry=\"39.78\"/>\n",
       "<ellipse fill=\"none\" stroke=\"black\" cx=\"136.65\" cy=\"-173.94\" rx=\"43.79\" ry=\"43.79\"/>\n",
       "<text text-anchor=\"middle\" x=\"136.65\" y=\"-170.24\" font-family=\"Times,serif\" font-size=\"14.00\">3m3c1b</text>\n",
       "</g>\n",
       "<!-- 3m2c0b -->\n",
       "<g id=\"node2\" class=\"node\">\n",
       "<title>3m2c0b</title>\n",
       "<ellipse fill=\"none\" stroke=\"black\" cx=\"39.65\" cy=\"-39.65\" rx=\"39.79\" ry=\"39.79\"/>\n",
       "<text text-anchor=\"middle\" x=\"39.65\" y=\"-35.95\" font-family=\"Times,serif\" font-size=\"14.00\">3m2c0b</text>\n",
       "</g>\n",
       "<!-- 3m3c1b&#45;&gt;3m2c0b -->\n",
       "<g id=\"edge1\" class=\"edge\">\n",
       "<title>3m3c1b&#45;&gt;3m2c0b</title>\n",
       "<path fill=\"none\" stroke=\"black\" d=\"M109.14,-139.99C101.98,-131.12 94.39,-121.45 87.65,-112.29 80.57,-102.69 73.25,-92.13 66.53,-82.13\"/>\n",
       "<polygon fill=\"black\" stroke=\"black\" points=\"69.25,-79.9 60.79,-73.53 63.43,-83.79 69.25,-79.9\"/>\n",
       "<text text-anchor=\"middle\" x=\"110.15\" y=\"-101.09\" font-family=\"Times,serif\" font-size=\"14.00\">0m1c1b</text>\n",
       "</g>\n",
       "<!-- 3m1c0b -->\n",
       "<g id=\"node3\" class=\"node\">\n",
       "<title>3m1c0b</title>\n",
       "<ellipse fill=\"none\" stroke=\"black\" cx=\"136.65\" cy=\"-39.65\" rx=\"39.79\" ry=\"39.79\"/>\n",
       "<text text-anchor=\"middle\" x=\"136.65\" y=\"-35.95\" font-family=\"Times,serif\" font-size=\"14.00\">3m1c0b</text>\n",
       "</g>\n",
       "<!-- 3m3c1b&#45;&gt;3m1c0b -->\n",
       "<g id=\"edge2\" class=\"edge\">\n",
       "<title>3m3c1b&#45;&gt;3m1c0b</title>\n",
       "<path fill=\"none\" stroke=\"black\" d=\"M136.65,-129.99C136.65,-117.13 136.65,-102.93 136.65,-89.71\"/>\n",
       "<polygon fill=\"black\" stroke=\"black\" points=\"140.15,-89.36 136.65,-79.36 133.15,-89.36 140.15,-89.36\"/>\n",
       "<text text-anchor=\"middle\" x=\"159.15\" y=\"-101.09\" font-family=\"Times,serif\" font-size=\"14.00\">0m2c1b</text>\n",
       "</g>\n",
       "<!-- 2m2c0b -->\n",
       "<g id=\"node4\" class=\"node\">\n",
       "<title>2m2c0b</title>\n",
       "<ellipse fill=\"none\" stroke=\"black\" cx=\"233.65\" cy=\"-39.65\" rx=\"39.79\" ry=\"39.79\"/>\n",
       "<text text-anchor=\"middle\" x=\"233.65\" y=\"-35.95\" font-family=\"Times,serif\" font-size=\"14.00\">2m2c0b</text>\n",
       "</g>\n",
       "<!-- 3m3c1b&#45;&gt;2m2c0b -->\n",
       "<g id=\"edge3\" class=\"edge\">\n",
       "<title>3m3c1b&#45;&gt;2m2c0b</title>\n",
       "<path fill=\"none\" stroke=\"black\" d=\"M164.15,-139.99C171.31,-131.12 178.9,-121.45 185.65,-112.29 192.72,-102.69 200.04,-92.13 206.77,-82.13\"/>\n",
       "<polygon fill=\"black\" stroke=\"black\" points=\"209.87,-83.79 212.51,-73.53 204.04,-79.9 209.87,-83.79\"/>\n",
       "<text text-anchor=\"middle\" x=\"217.15\" y=\"-101.09\" font-family=\"Times,serif\" font-size=\"14.00\">1m1c1b</text>\n",
       "</g>\n",
       "</g>\n",
       "</svg>\n"
      ],
      "text/plain": [
       "<graphviz.dot.Digraph at 0x7f9c6eec4670>"
      ]
     },
     "execution_count": 384,
     "metadata": {},
     "output_type": "execute_result"
    }
   ],
   "source": [
    "f.attr('node', shape='circle')\n",
    "\n",
    "for node in nodes:\n",
    "    \n",
    "    edge_name, neighbours = GRAPH.get_nodes_and_edge_name(node)\n",
    "\n",
    "    for en,n in zip(edge_name, neighbours):\n",
    "        f.edge(node, node_name(n), label=en)\n",
    "\n",
    "#     print(edges)\n",
    "#     print(actions)\n",
    "    break\n",
    "\n",
    "f"
   ]
  },
  {
   "cell_type": "markdown",
   "metadata": {},
   "source": [
    "## Final Diagraph"
   ]
  },
  {
   "cell_type": "code",
   "execution_count": 440,
   "metadata": {},
   "outputs": [
    {
     "data": {
      "text/plain": [
       "[0, 0, 0]"
      ]
     },
     "execution_count": 440,
     "metadata": {},
     "output_type": "execute_result"
    }
   ],
   "source": [
    "GOAL"
   ]
  },
  {
   "cell_type": "code",
   "execution_count": 407,
   "metadata": {},
   "outputs": [
    {
     "data": {
      "text/plain": [
       "[]"
      ]
     },
     "execution_count": 407,
     "metadata": {},
     "output_type": "execute_result"
    }
   ],
   "source": [
    "STACK"
   ]
  },
  {
   "cell_type": "code",
   "execution_count": 479,
   "metadata": {},
   "outputs": [
    {
     "data": {
      "text/plain": [
       "'mcb.gv.pdf'"
      ]
     },
     "execution_count": 479,
     "metadata": {},
     "output_type": "execute_result"
    }
   ],
   "source": [
    "vertices = list(GRAPH.graph.keys())\n",
    "\n",
    "f = Digraph('M_And_C', filename='mcb.gv')\n",
    "\n",
    "f.attr(rankdir='LR', size='14,12')\n",
    "\n",
    "# double circle for initial state representation\n",
    "f.attr('node', shape='doublecircle')\n",
    "f.node(vertices[0])\n",
    "\n",
    "\n",
    "# normal circle for other state \n",
    "f.attr('node', shape='circle')\n",
    "\n",
    "for vertex in vertices:\n",
    "    \n",
    "    edge_name, neighbours = GRAPH.get_nodes_and_edge_name(vertex)\n",
    "\n",
    "    for en,n in zip(edge_name, neighbours):\n",
    "        if n == GOAL:\n",
    "            f.attr('node', style='filled', color='lightgreen')\n",
    "            f.edge(vertex, node_name(n), label=en)\n",
    "            f.attr('node', style='', color='')\n",
    "        else:\n",
    "            f.edge(vertex, node_name(n), label=en)\n",
    "\n",
    "# f\n",
    "f.view()"
   ]
  }
 ],
 "metadata": {
  "kernelspec": {
   "display_name": "Python 3",
   "language": "python",
   "name": "python3"
  },
  "language_info": {
   "codemirror_mode": {
    "name": "ipython",
    "version": 3
   },
   "file_extension": ".py",
   "mimetype": "text/x-python",
   "name": "python",
   "nbconvert_exporter": "python",
   "pygments_lexer": "ipython3",
   "version": "3.8.3"
  }
 },
 "nbformat": 4,
 "nbformat_minor": 4
}
