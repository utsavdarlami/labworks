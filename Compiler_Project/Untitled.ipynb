{
 "cells": [
  {
   "cell_type": "markdown",
   "metadata": {},
   "source": [
    "# SLR Parser\n",
    "- ## Parse grammar\n",
    "- ## first\n",
    "- ## follow"
   ]
  },
  {
   "cell_type": "code",
   "execution_count": 167,
   "metadata": {},
   "outputs": [],
   "source": [
    "import sys\n",
    "\n",
    "G = {}\n",
    "C = {}\n",
    "start = \"\"\n",
    "terminals = []\n",
    "nonterminals = []\n",
    "symbols = []\n",
    "error=0\n",
    "EPSILON = \"/E\"\n",
    "\n",
    "grammars = open(\"grammar.txt\")\n"
   ]
  },
  {
   "cell_type": "code",
   "execution_count": 107,
   "metadata": {},
   "outputs": [],
   "source": [
    "from graphviz import Digraph\n"
   ]
  },
  {
   "cell_type": "code",
   "execution_count": 73,
   "metadata": {},
   "outputs": [],
   "source": []
  },
  {
   "cell_type": "markdown",
   "metadata": {},
   "source": [
    "# Parse grammar"
   ]
  },
  {
   "cell_type": "code",
   "execution_count": 95,
   "metadata": {},
   "outputs": [],
   "source": [
    "G = {}\n",
    "start = ''\n",
    "grammars = open(\"grammar.txt\")\n",
    "parse_grammar(grammars)\n"
   ]
  },
  {
   "cell_type": "code",
   "execution_count": 96,
   "metadata": {},
   "outputs": [
    {
     "data": {
      "text/plain": [
       "{\"S'\": [['S']],\n",
       " 'S': [['L', '=', 'R'], ['R']],\n",
       " 'L': [['*', 'R'], ['id']],\n",
       " 'R': [['L']]}"
      ]
     },
     "execution_count": 96,
     "metadata": {},
     "output_type": "execute_result"
    }
   ],
   "source": [
    "G\n",
    "# [\"L = R\",\"R\"]\n"
   ]
  },
  {
   "cell_type": "code",
   "execution_count": 97,
   "metadata": {},
   "outputs": [
    {
     "name": "stdout",
     "output_type": "stream",
     "text": [
      "GRAMMAR:\n",
      " S -> L = R | R \n",
      " L -> * R | id \n",
      " R -> L \n",
      "\n",
      "AUGMENTED GRAMMAR:\n",
      "0: S' -> S\n",
      "1: S -> L = R\n",
      "2: S -> R\n",
      "3: L -> * R\n",
      "4: L -> id\n",
      "5: R -> L\n",
      "\n",
      "TERMINALS    : ['=', '*', 'id']\n",
      "NONTERMINALS : [\"S'\", 'S', 'L', 'R']\n",
      "SYMBOLS      : [\"S'\", 'S', 'L', 'R', '=', '*', 'id']\n"
     ]
    }
   ],
   "source": []
  },
  {
   "cell_type": "code",
   "execution_count": 102,
   "metadata": {},
   "outputs": [],
   "source": [
    "def parse_grammar(grammars):\n",
    "    \"\"\"\n",
    "       Grammar Parser\n",
    "       args : grammars = file\n",
    "       \n",
    "    \"\"\"\n",
    "    global G, start, terminals, nonterminals, symbols\n",
    "    for line in grammars: # read a single line from the grammar file\n",
    "        line = \" \".join(line.split()) # to remove \\n\n",
    "#         print(line)\n",
    "        if line == '\\n':\n",
    "            break\n",
    "        # head = line[:line.index(\"->\")].strip()\n",
    "        arrow_index = line.index(\"->\") # arrow kata cha ta ?\n",
    "        # print(arrow_index)\n",
    "\n",
    "        # print(line[:arrow_index][1])\n",
    "        head = line[:arrow_index].strip()  # Before Arrow ->\n",
    "#         print(head)\n",
    "\n",
    "        after_arrow = line[arrow_index + 2:]  # After Arrow ->\n",
    "#         print(after_arrow)\n",
    "\n",
    "        tails = after_arrow.split('|')  # Break each rule seperated by |\n",
    "#         print(tails) \n",
    "        # [\"   L = R    \",\" R  \"]\n",
    "#    \"L = R\" -> \"L\n",
    "        prods = [t.strip().split(' ') for t in tails]\n",
    "        # Get single char from each tails given by the rule\n",
    "\n",
    "#         print(prods)\n",
    "        # now adding the production to its head in G \n",
    "#  {\n",
    "#   \"S'\": [['S']],\n",
    "#  'S': [['L', '=', 'R'], ['R']],\n",
    "#  'L': [['*', 'R'], ['id']],\n",
    "#  'R': [['L']]\n",
    "# }\n",
    "        if not start: \n",
    "            # For S' -> S\n",
    "            start = head + \"'\"\n",
    "            G[start] = [[head]]\n",
    "            nonterminals.append(start)\n",
    "            \n",
    "        if head not in G:\n",
    "            G[head] = []\n",
    "\n",
    "        if head not in nonterminals:\n",
    "            nonterminals.append(head)\n",
    "        # L = []\n",
    "        for prod in prods: # in  [['*', 'R'], ['id']]\n",
    "            G[head].append(prod) # 1st time run huda -> ['*', 'R']\n",
    "            # add the prod in non terminals / terminals\n",
    "            for char in prod: # in  ['*', 'R']\n",
    "                if char == EPSILON and char not in terminals:\n",
    "                    terminals.append(char) # for epsilon\n",
    "                # Check for small letters i.e terminals\n",
    "                elif not char.isupper() and char not in terminals:\n",
    "                    terminals.append(char) # for terimal\n",
    "\n",
    "                # Check for capital letters i.e Non terminals\n",
    "                # char not in terminals -> To stop Epsilon from getting append in Non terminoals\n",
    "                elif char.isupper() and char not in nonterminals and char not in terminals:\n",
    "                    nonterminals.append(char) \n",
    "                    G[char] = []    # non terminals dont produce other symbols\n",
    "        # L = [['*', 'R'], ['id']]\n",
    "\n",
    "    symbols =  nonterminals+terminals  # Merge all the notations/symbols\n",
    "\n",
    "def print_grammar():\n",
    "    print(\"GRAMMAR:\")\n",
    "    #  {\n",
    "#   \"S'\": [['S']],\n",
    "#  'S': [['L', '=', 'R'], ['R']],\n",
    "#  'L': [['*', 'R'], ['id']],\n",
    "#  'R': [['L']]\n",
    "# }\n",
    "    # Grammar without S', Given Grammar Cleaned\n",
    "    # with | \n",
    "    for head in G.keys():\n",
    "        if head == start:\n",
    "            continue\n",
    "        print(f\" {head} -> \",end='') # S -> \n",
    "        num_prods = 0\n",
    "        for prod in G[head]:\n",
    "            if num_prods > 0:\n",
    "                print(\"|\",end=' ')\n",
    "            print(f\"{' '.join(prod)}\",end=' ') # S -> L = R | R\n",
    "            num_prods += 1\n",
    "        print()\n",
    "\n",
    "    print(\"\\nAUGMENTED GRAMMAR:\")\n",
    "    i = 0\n",
    "    for head in G.keys():\n",
    "        for prod in G[head]:\n",
    "            print(f\"{str(i)}: {head} ->\",end=' ')\n",
    "            print(' '.join(prod)) # Join Single Production symbols with Space\n",
    "            i += 1\n",
    "    print()\n",
    "    print(f\"TERMINALS    : {terminals}\")\n",
    "    print(f\"NONTERMINALS : {nonterminals}\")\n",
    "    print(f\"SYMBOLS      : {symbols}\")"
   ]
  },
  {
   "cell_type": "markdown",
   "metadata": {},
   "source": [
    "AUGMENTED GRAMMAR:\n",
    "0: S' -> S\n",
    "1: S -> L = R\n",
    "2: S -> R\n",
    "3: L -> * R\n",
    "4: L -> id\n",
    "5: R -> L"
   ]
  },
  {
   "cell_type": "code",
   "execution_count": 169,
   "metadata": {},
   "outputs": [
    {
     "name": "stdout",
     "output_type": "stream",
     "text": [
      "GRAMMAR:\n",
      " S -> L = R | R \n",
      " L -> * R | id \n",
      " R -> L \n",
      "\n",
      "AUGMENTED GRAMMAR:\n",
      "0: S' -> S\n",
      "1: S -> L = R\n",
      "2: S -> R\n",
      "3: L -> * R\n",
      "4: L -> id\n",
      "5: R -> L\n",
      "\n",
      "TERMINALS    : ['=', '*', 'id']\n",
      "NONTERMINALS : [\"S'\", 'S', 'L', 'R']\n",
      "SYMBOLS      : [\"S'\", 'S', 'L', 'R', '=', '*', 'id']\n"
     ]
    }
   ],
   "source": [
    "parse_grammar(grammars)\n",
    "print_grammar()"
   ]
  },
  {
   "cell_type": "markdown",
   "metadata": {},
   "source": [
    "# first"
   ]
  },
  {
   "cell_type": "code",
   "execution_count": 105,
   "metadata": {},
   "outputs": [],
   "source": [
    "first_seen = []\n",
    "def FIRST(X):\n",
    "    \"\"\" \n",
    "        input : X = terminals,non terminals\n",
    "        return : array of first of given X\n",
    "    \"\"\"\n",
    "    global first_seen\n",
    "    first = []\n",
    "    # first_seen = []\n",
    "    first_seen.append(X)\n",
    "    if X in terminals:  # CASE 1\n",
    "        first.append(X) # terminal So add\n",
    "\n",
    "    elif X in nonterminals:  # CASE 2 Found Non terminal is 1st\n",
    "        non_term_prods = G[X] # \n",
    "        for production in non_term_prods:\n",
    "            # CASE 2.1, first of non terminal is terminal\n",
    "            if production[0] in terminals and production[0] not in first:\n",
    "                # NON terminals\n",
    "                first.append(production[0])\n",
    "            else:  # CASE 2.2, first of non terminal is non-terminal\n",
    "                for_break = False\n",
    "                for sym in production:\n",
    "                # nonterm = production[0]\n",
    "                    if for_break or sym in terminals:\n",
    "                        break\n",
    "\n",
    "                    if sym not in first_seen:\n",
    "                        first_of_nonterm = FIRST(sym) # recursive call\n",
    "\n",
    "                        for term in first_of_nonterm:\n",
    "                            if term not in first:\n",
    "                                first.append(term)\n",
    "\n",
    "                        if EPSILON not in first_of_nonterm:\n",
    "                            for_break = True\n",
    "                                # FIRST(production)\n",
    "    first_seen.remove(X)\n",
    "    return first\n",
    "\n",
    "def print_first():\n",
    "    print(\"\\nFIRST:\")\n",
    "    for head in G.keys(): # loop through each nonterminals in G\n",
    "        print(f\"{head} = {{\",end=' ')\n",
    "        terms = FIRST(head) # find the first of a single head/non-terminals\n",
    "\n",
    "        print(' , '.join(terms),end=' ')\n",
    "        print(\"}\")"
   ]
  },
  {
   "cell_type": "code",
   "execution_count": 168,
   "metadata": {},
   "outputs": [
    {
     "name": "stdout",
     "output_type": "stream",
     "text": [
      "\n",
      "FIRST:\n"
     ]
    }
   ],
   "source": [
    "print_first()"
   ]
  },
  {
   "cell_type": "markdown",
   "metadata": {},
   "source": [
    "# follow"
   ]
  },
  {
   "cell_type": "code",
   "execution_count": 164,
   "metadata": {},
   "outputs": [],
   "source": [
    "follow_seen = []\n",
    "def FOLLOW(passed_head):\n",
    "    global follow_seen\n",
    "    follow = []\n",
    "    follow_seen.append(passed_head)\n",
    "\n",
    "    # CASE 1\n",
    "    if passed_head == start: # S'\n",
    "        \"\"\"\n",
    "        follow of start symbol is $\n",
    "        \"\"\"\n",
    "        follow.append('$')\n",
    "        follow_seen.remove(passed_head)\n",
    "        return follow\n",
    "\n",
    "    for heads in G.keys():\n",
    "        for prods in G[heads]:\n",
    "            follow_head = False # head ko follow nikalne ki na nikalne\n",
    "            if passed_head in prods: # right side of arrow contains passed_head or not\n",
    "                next_symbol_pos = prods.index(passed_head) + 1 # passed_head front sym\n",
    "                # CASE 2 net_symbol_pos not is last \n",
    "                while next_symbol_pos < len(prods):\n",
    "                    \"\"\"\n",
    "                     Not in last postion, FIRST works for both terminal and\n",
    "                     non terminal\n",
    "                    \"\"\"\n",
    "                    symbol_first = FIRST(prods[next_symbol_pos])\n",
    "                    for terms in symbol_first:\n",
    "                        if terms not in follow:\n",
    "                            follow.append(terms)\n",
    "                    if EPSILON in symbol_first:\n",
    "                        next_symbol_pos +=1\n",
    "                        follow.remove(EPSILON)\n",
    "                    else:\n",
    "                        break\n",
    "\n",
    "                # CASE 3 - in the last position\n",
    "                else: # end sym always follows head.\n",
    "                    follow_head = True\n",
    "\n",
    "                if follow_head and heads not in follow_seen:\n",
    "                    for terms in FOLLOW(heads):\n",
    "                        if terms not in follow:\n",
    "                            follow.append(terms)\n",
    "\n",
    "    follow_seen.remove(passed_head)\n",
    "\n",
    "    return follow\n",
    "\n",
    "def print_follow() :\n",
    "    print(\"\\nFOLLOW:\")\n",
    "    for head in G.keys(): # loop through each nonterminals in G\n",
    "        print(f\"{head} = {{\",end=' ')\n",
    "        terms = FOLLOW(head) # find the first of a single head/non-terminals\n",
    "        print(' , '.join(terms),end=' ')\n",
    "        print(\"}\")"
   ]
  },
  {
   "cell_type": "code",
   "execution_count": 171,
   "metadata": {},
   "outputs": [
    {
     "name": "stdout",
     "output_type": "stream",
     "text": [
      "\n",
      "FOLLOW:\n",
      "S' = { $ }\n",
      "S = { $ }\n",
      "L = { = , $ }\n",
      "R = { $ , = }\n"
     ]
    }
   ],
   "source": [
    "print_follow()"
   ]
  },
  {
   "cell_type": "markdown",
   "metadata": {},
   "source": [
    "## closure "
   ]
  },
  {
   "cell_type": "code",
   "execution_count": 31,
   "metadata": {},
   "outputs": [],
   "source": [
    "def closure(I):\n",
    "    # J = defaultdict()\n",
    "    J = I\n",
    "#     print(J)\n",
    "#     print(I)\n",
    "    \n",
    "    all_heads = J.keys()\n",
    "    main_heads = list(all_heads)\n",
    "    \n",
    "#     item_len = len(J) + sum(len(v) for v in J.values())\n",
    "#     print(main_heads)\n",
    "\n",
    "    for heads in main_heads:\n",
    "#         print(f\"for looop {main_heads}\")\n",
    "#         print(heads)\n",
    "        heads_all_prods = J[heads]\n",
    "#         print(heads_all_prods)\n",
    "        for prods in heads_all_prods:\n",
    "            dot_pos = prods.index('.')      # checks if final item or not\n",
    "            if dot_pos + 1 < len(prods):\n",
    "                prod_after_dot = prods[dot_pos + 1]\n",
    "                if prod_after_dot in nonterminals : # and prod_after_dot not in main_heads: # Non terminals get expansion\n",
    "                    nonterminals_productions  = G[prod_after_dot]\n",
    "                    for prod in nonterminals_productions:\n",
    "                        item = [\".\"] + prod\n",
    "                        if prod_after_dot not in main_heads:\n",
    "                            main_heads.append(prod_after_dot)\n",
    "                            J[prod_after_dot] = [item]\n",
    "                        elif item not in J[prod_after_dot]:\n",
    "                            J[prod_after_dot].append(item)\n",
    "\n",
    "\n",
    "    return J # A dictionary\n"
   ]
  },
  {
   "cell_type": "code",
   "execution_count": 12,
   "metadata": {},
   "outputs": [
    {
     "data": {
      "text/plain": [
       "{'L': [['*', '.', 'R']]}"
      ]
     },
     "execution_count": 12,
     "metadata": {},
     "output_type": "execute_result"
    }
   ],
   "source": [
    "# {\"S'\": [['.', 'S']]}\n",
    "heads = \"L\"\n",
    "temp_prods = ['*', '.', 'R']\n",
    "x = closure({heads: [temp_prods]})\n",
    "x"
   ]
  },
  {
   "cell_type": "code",
   "execution_count": 178,
   "metadata": {},
   "outputs": [
    {
     "data": {
      "text/plain": [
       "['.', 'S']"
      ]
     },
     "execution_count": 178,
     "metadata": {},
     "output_type": "execute_result"
    }
   ],
   "source": [
    "['.']+G[start][0]"
   ]
  },
  {
   "cell_type": "code",
   "execution_count": 179,
   "metadata": {},
   "outputs": [
    {
     "name": "stdout",
     "output_type": "stream",
     "text": [
      "{\"S'\": [['.', 'S']]}\n"
     ]
    }
   ],
   "source": [
    "start_I0 = {start: [['.'] + G[start][0]]}\n",
    "print(start_I0)\n",
    "# https://stackoverflow.com/questions/577234/python-extend-for-a-dictionary"
   ]
  },
  {
   "cell_type": "code",
   "execution_count": null,
   "metadata": {},
   "outputs": [],
   "source": []
  },
  {
   "cell_type": "code",
   "execution_count": null,
   "metadata": {},
   "outputs": [],
   "source": [
    "{\n",
    "  \"S'\": [['S']],\n",
    "  'S' : [['L', '=', 'R'], ['R']],\n",
    "  'L' : [['*', 'R'], ['id']],\n",
    "  'R' : [['L']]\n",
    " }"
   ]
  },
  {
   "cell_type": "code",
   "execution_count": 180,
   "metadata": {},
   "outputs": [
    {
     "name": "stdout",
     "output_type": "stream",
     "text": [
      "{\"S'\": [['.', 'S']]}\n",
      "{\"S'\": [['.', 'S']], 'S': [['.', 'L', '=', 'R'], ['.', 'R']], 'L': [['.', '*', 'R'], ['.', 'id']], 'R': [['.', 'L']]}\n"
     ]
    }
   ],
   "source": [
    "start_I0 = {start: [['.'] + G[start][0]]}\n",
    "# print(start_I0)\n",
    "# start_I0 = {start: [['.'] + G['L'][1]]}\n",
    "print(start_I0)\n",
    "# C = {'I0': closure(start_I0)}\n",
    "i0 = closure(start_I0)\n",
    "print(i0)\n",
    "#print(C)"
   ]
  },
  {
   "cell_type": "code",
   "execution_count": 181,
   "metadata": {},
   "outputs": [
    {
     "data": {
      "text/plain": [
       "{\"S'\": [['.', 'S']],\n",
       " 'S': [['.', 'L', '=', 'R'], ['.', 'R']],\n",
       " 'L': [['.', '*', 'R'], ['.', 'id']],\n",
       " 'R': [['.', 'L']]}"
      ]
     },
     "execution_count": 181,
     "metadata": {},
     "output_type": "execute_result"
    }
   ],
   "source": [
    "i0"
   ]
  },
  {
   "cell_type": "code",
   "execution_count": 182,
   "metadata": {},
   "outputs": [
    {
     "data": {
      "text/plain": [
       "[\"S'\", 'S', 'L', 'R', '=', '*', 'id']"
      ]
     },
     "execution_count": 182,
     "metadata": {},
     "output_type": "execute_result"
    }
   ],
   "source": [
    "symbols"
   ]
  },
  {
   "cell_type": "markdown",
   "metadata": {},
   "source": [
    "# ITEM"
   ]
  },
  {
   "cell_type": "code",
   "execution_count": 173,
   "metadata": {},
   "outputs": [
    {
     "data": {
      "text/plain": [
       "{\"S'\": [['.', 'S']]}"
      ]
     },
     "execution_count": 173,
     "metadata": {},
     "output_type": "execute_result"
    }
   ],
   "source": [
    "start_I0 = {start: [['.'] + G[start][0]]}\n",
    "start_I0\n"
   ]
  },
  {
   "cell_type": "code",
   "execution_count": null,
   "metadata": {},
   "outputs": [],
   "source": []
  },
  {
   "cell_type": "code",
   "execution_count": null,
   "metadata": {},
   "outputs": [],
   "source": [
    "[\"I0\",]"
   ]
  },
  {
   "cell_type": "code",
   "execution_count": 32,
   "metadata": {},
   "outputs": [],
   "source": [
    "C = {} # stores the state, I's\n",
    "def items():\n",
    "    global C\n",
    "    i = 1\n",
    "    start_I0 = {start: [['.'] + G[start][0]]}\n",
    "#     print(start_I0)\n",
    "    C = {'I0': closure(start_I0)}\n",
    "    C_heads = list(C.keys())\n",
    "    try:\n",
    "          for I in C_heads:\n",
    "#             print(f\"----{I}----\")\n",
    "            for X in symbols:\n",
    "#                 print(\"----new----\")\n",
    "                if GOTO(C[I], X) and GOTO(C[I], X) not in C.values():\n",
    "                    item_name = 'I' + str(i)\n",
    "                    C_heads.append(item_name)\n",
    "                    C[item_name] = GOTO(C[I], X)\n",
    "                    i += 1\n",
    "    except Exception as e:\n",
    "        print(e)\n",
    "        pass\n",
    "    \n",
    "def print_item() :\n",
    "    print(\"\\nITEMS:\")\n",
    "    for i in range(len(C)):\n",
    "        print('I' + str(i) + ':')\n",
    "        for keys in C['I' + str(i)]:\n",
    "            for prods in C['I' + str(i)][keys]:\n",
    "                new_canonical_prods = ' '.join(prods)\n",
    "                print(f\"  {keys} -> {new_canonical_prods}\")\n",
    "        print()"
   ]
  },
  {
   "cell_type": "markdown",
   "metadata": {},
   "source": [
    "<img src=\"1g.jpg\" alt=\"Drawing\" style=\"width: 700px;\"/>"
   ]
  },
  {
   "cell_type": "markdown",
   "metadata": {},
   "source": [
    "<img src=\"2g.jpg\" alt=\"Drawing\" style=\"width: 700px;\"/>"
   ]
  },
  {
   "cell_type": "code",
   "execution_count": 33,
   "metadata": {},
   "outputs": [],
   "source": [
    "def GOTO(I, X):\n",
    "    goto = {}\n",
    "#     print(I)\n",
    "#     print(X)\n",
    "    for heads in I.keys():\n",
    "        for prods in I[heads]:\n",
    "            for i in range(len(prods)-1):\n",
    "                if \".\" == prods[i] and X == prods[i + 1]: # select the symbols next to the dot.\n",
    "                    temp_prods = prods[:]\n",
    "#                     print(temp_prods)\n",
    "                    temp_prods[i], temp_prods[i + 1] = temp_prods[i + 1], temp_prods[i]\n",
    "#                     print(f\"heads = {heads}\")\n",
    "#                     print(f\"temp_prds = {temp_prods}\")\n",
    "                    prod_closure = closure({heads: [temp_prods]})\n",
    "#                     print(prod_closure)\n",
    "                    for keys in prod_closure:\n",
    "#                         print(keys)\n",
    "                        if keys not in goto.keys():\n",
    "                            goto[keys] = prod_closure[keys]\n",
    "                        elif prod_closure[keys] not in goto[keys]:\n",
    "                            for prod in prod_closure[keys]:\n",
    "                                goto[keys].append(prod)\n",
    "    return goto"
   ]
  },
  {
   "cell_type": "code",
   "execution_count": null,
   "metadata": {},
   "outputs": [],
   "source": []
  },
  {
   "cell_type": "code",
   "execution_count": 186,
   "metadata": {},
   "outputs": [],
   "source": [
    "def print_goto(J):\n",
    "    for keys in J:\n",
    "        for prods in J[keys]:\n",
    "            new_canonical_prods = ' '.join(prods)\n",
    "            print(f\"{keys} -> {new_canonical_prods}\")"
   ]
  },
  {
   "cell_type": "code",
   "execution_count": 187,
   "metadata": {},
   "outputs": [
    {
     "name": "stdout",
     "output_type": "stream",
     "text": [
      "L -> * . R\n",
      "L -> . * R\n",
      "L -> . id\n",
      "R -> . L\n",
      "done\n"
     ]
    }
   ],
   "source": [
    "I = {\"S'\": [['.', 'S']], 'S': [['.', 'L', '=', 'R'], ['.', 'R']], 'L': [['.', '*', 'R'], ['.', 'id']], 'R': [['.', 'L']]}\n",
    "# X = \"*\"\n",
    "test_goto = GOTO(I,\"*\")\n",
    "print_goto(test_goto)\n",
    "print(\"done\")"
   ]
  },
  {
   "cell_type": "code",
   "execution_count": 195,
   "metadata": {},
   "outputs": [
    {
     "data": {
      "text/plain": [
       "[\"S'\", 'S', 'L', 'R', '=', '*', 'id']"
      ]
     },
     "execution_count": 195,
     "metadata": {},
     "output_type": "execute_result"
    }
   ],
   "source": [
    "symbols"
   ]
  },
  {
   "cell_type": "code",
   "execution_count": 206,
   "metadata": {},
   "outputs": [
    {
     "data": {
      "text/plain": [
       "{\"S'\": [['.', 'S']],\n",
       " 'S': [['.', 'L', '=', 'R'], ['.', 'R']],\n",
       " 'L': [['.', '*', 'R'], ['.', 'id']],\n",
       " 'R': [['.', 'L']]}"
      ]
     },
     "execution_count": 206,
     "metadata": {},
     "output_type": "execute_result"
    }
   ],
   "source": [
    "start_I0"
   ]
  },
  {
   "cell_type": "code",
   "execution_count": null,
   "metadata": {},
   "outputs": [],
   "source": []
  },
  {
   "cell_type": "code",
   "execution_count": 194,
   "metadata": {},
   "outputs": [],
   "source": [
    "I0 = {\n",
    " \"S'\": [['.', 'S']],\n",
    " 'S': [['.', 'L', '=', 'R'], ['.', 'R']],\n",
    " 'L': [['.', '*', 'R'], ['.', 'id']],\n",
    " 'R': [['.', 'L']]\n",
    "}"
   ]
  },
  {
   "cell_type": "code",
   "execution_count": 211,
   "metadata": {},
   "outputs": [
    {
     "name": "stdout",
     "output_type": "stream",
     "text": [
      "L -> * . R\n",
      "L -> . * R\n",
      "L -> . id\n",
      "R -> . L\n",
      "done\n"
     ]
    }
   ],
   "source": [
    "test_goto = GOTO(I0,\"*\")\n",
    "print_goto(test_goto)\n",
    "print(\"done\")"
   ]
  },
  {
   "cell_type": "code",
   "execution_count": null,
   "metadata": {},
   "outputs": [],
   "source": [
    "{\"S'\": [['.', 'S']]}"
   ]
  },
  {
   "cell_type": "code",
   "execution_count": null,
   "metadata": {},
   "outputs": [],
   "source": [
    "{'L': [['*', '.', 'R']]}"
   ]
  },
  {
   "cell_type": "code",
   "execution_count": 213,
   "metadata": {},
   "outputs": [
    {
     "data": {
      "text/plain": [
       "{'L': [['*', '.', 'R'], ['.', '*', 'R'], ['.', 'id']], 'R': [['.', 'L']]}"
      ]
     },
     "execution_count": 213,
     "metadata": {},
     "output_type": "execute_result"
    }
   ],
   "source": [
    "closure({'L': [['*', '.', 'R']]})"
   ]
  },
  {
   "cell_type": "code",
   "execution_count": 214,
   "metadata": {},
   "outputs": [
    {
     "data": {
      "text/plain": [
       "{'L': [['*', '.', 'R'], ['.', '*', 'R'], ['.', 'id']], 'R': [['.', 'L']]}"
      ]
     },
     "execution_count": 214,
     "metadata": {},
     "output_type": "execute_result"
    }
   ],
   "source": [
    "test_goto"
   ]
  },
  {
   "cell_type": "code",
   "execution_count": null,
   "metadata": {},
   "outputs": [],
   "source": [
    "I2 = {'S': [['L', '.', '=', 'R']], 'R': [['L', '.']]}\n",
    "test_goto1 = GOTO(I2,'=')\n",
    "print_goto(test_goto1)\n",
    "print(\"done\")"
   ]
  },
  {
   "cell_type": "code",
   "execution_count": null,
   "metadata": {},
   "outputs": [],
   "source": [
    "test_goto1"
   ]
  },
  {
   "cell_type": "markdown",
   "metadata": {},
   "source": []
  },
  {
   "cell_type": "code",
   "execution_count": null,
   "metadata": {},
   "outputs": [],
   "source": []
  },
  {
   "cell_type": "code",
   "execution_count": 215,
   "metadata": {},
   "outputs": [],
   "source": [
    "G = {}\n",
    "C = {}\n",
    "start = \"\"\n",
    "terminals = []\n",
    "nonterminals = []\n",
    "symbols = []\n",
    "error=0\n",
    "EPSILON = \"/E\"\n",
    "\n",
    "grammars = open(\"grammar.txt\")\n",
    "\n",
    "\n",
    "parse_grammar(grammars)\n",
    "# print_grammar()\n",
    "    \n",
    "# print_first()\n",
    "# print_follow()"
   ]
  },
  {
   "cell_type": "code",
   "execution_count": 216,
   "metadata": {},
   "outputs": [],
   "source": [
    "items()"
   ]
  },
  {
   "cell_type": "code",
   "execution_count": null,
   "metadata": {},
   "outputs": [],
   "source": [
    "print_follow()"
   ]
  },
  {
   "cell_type": "code",
   "execution_count": null,
   "metadata": {},
   "outputs": [],
   "source": [
    "print_table()"
   ]
  },
  {
   "cell_type": "code",
   "execution_count": 217,
   "metadata": {},
   "outputs": [
    {
     "name": "stdout",
     "output_type": "stream",
     "text": [
      "\n",
      "ITEMS:\n",
      "I0:\n",
      "  S' -> . S\n",
      "  S -> . L = R\n",
      "  S -> . R\n",
      "  L -> . * R\n",
      "  L -> . id\n",
      "  R -> . L\n",
      "\n",
      "I1:\n",
      "  S' -> S .\n",
      "\n",
      "I2:\n",
      "  S -> L . = R\n",
      "  R -> L .\n",
      "\n",
      "I3:\n",
      "  S -> R .\n",
      "\n",
      "I4:\n",
      "  L -> * . R\n",
      "  L -> . * R\n",
      "  L -> . id\n",
      "  R -> . L\n",
      "\n",
      "I5:\n",
      "  L -> id .\n",
      "\n",
      "I6:\n",
      "  S -> L = . R\n",
      "  R -> . L\n",
      "  L -> . * R\n",
      "  L -> . id\n",
      "\n",
      "I7:\n",
      "  R -> L .\n",
      "\n",
      "I8:\n",
      "  L -> * R .\n",
      "\n",
      "I9:\n",
      "  S -> L = R .\n",
      "\n"
     ]
    }
   ],
   "source": [
    "print_item()"
   ]
  },
  {
   "cell_type": "code",
   "execution_count": 228,
   "metadata": {},
   "outputs": [
    {
     "data": {
      "text/plain": [
       "[['', 's4', 's5', '', '1', '2', '3'],\n",
       " ['', '', '', 'acc', '', '', ''],\n",
       " ['s6/r5', '', '', 'r5', '', '', ''],\n",
       " ['', '', '', 'r2', '', '', ''],\n",
       " ['', 's4', 's5', '', '', '7', '8'],\n",
       " ['r4', '', '', 'r4', '', '', ''],\n",
       " ['', 's4', 's5', '', '', '7', '9'],\n",
       " ['r5', '', '', 'r5', '', '', ''],\n",
       " ['r3', '', '', 'r3', '', '', ''],\n",
       " ['', '', '', 'r1', '', '', '']]"
      ]
     },
     "execution_count": 228,
     "metadata": {},
     "output_type": "execute_result"
    }
   ],
   "source": [
    "parse_table"
   ]
  },
  {
   "cell_type": "code",
   "execution_count": 232,
   "metadata": {},
   "outputs": [
    {
     "name": "stdout",
     "output_type": "stream",
     "text": [
      "PARSING TABLE:\n",
      "+--------+--------+--------+--------+--------+--------+--------+--------+\n",
      "| STATE  |    =   |    *   |   id   |    $   |    S   |    L   |    R   | \n",
      "+--------+--------+--------+--------+--------+--------+--------+--------+\n",
      "|   0    |        |   s4   |   s5   |        |    1   |    2   |    3   | \n",
      "|   1    |        |        |        |   acc  |        |        |        | \n",
      "|   2    |  s6/r5 |        |        |   r5   |        |        |        | \n",
      "|   3    |        |        |        |   r2   |        |        |        | \n",
      "|   4    |        |   s4   |   s5   |        |        |    7   |    8   | \n",
      "|   5    |   r4   |        |        |   r4   |        |        |        | \n",
      "|   6    |        |   s4   |   s5   |        |        |    7   |    9   | \n",
      "|   7    |   r5   |        |        |   r5   |        |        |        | \n",
      "|   8    |   r3   |        |        |   r3   |        |        |        | \n",
      "|   9    |        |        |        |   r1   |        |        |        | \n",
      "+--------+--------+--------+--------+--------+--------+--------+--------+\n"
     ]
    }
   ],
   "source": [
    "print_table()"
   ]
  },
  {
   "cell_type": "code",
   "execution_count": 253,
   "metadata": {},
   "outputs": [
    {
     "data": {
      "text/plain": [
       "'r4'"
      ]
     },
     "execution_count": 253,
     "metadata": {},
     "output_type": "execute_result"
    }
   ],
   "source": [
    "ACTION(5,\"=\")"
   ]
  },
  {
   "cell_type": "code",
   "execution_count": 254,
   "metadata": {},
   "outputs": [
    {
     "data": {
      "text/plain": [
       "{'L': [['id', '.']]}"
      ]
     },
     "execution_count": 254,
     "metadata": {},
     "output_type": "execute_result"
    }
   ],
   "source": [
    "C[\"I5\"]"
   ]
  },
  {
   "cell_type": "code",
   "execution_count": 280,
   "metadata": {},
   "outputs": [],
   "source": [
    "def ACTION(i, a):\n",
    "    \"\"\"\n",
    "        Left for Explaining\n",
    "        i is state number\n",
    "        a is symbol\n",
    "        i -> a , gives what?\n",
    "    \"\"\"\n",
    "    \"\"\"\n",
    "    action_test = ACTION(2, 'id') = 's6/r5'\n",
    "     What if no symbol\n",
    "     3 Cases :\n",
    "         1 -> after dot  symbol matches :\n",
    "                 1.1 -> symbol is terminal      =  reduce\n",
    "                 1.2 -> symbol is non terminal  =  shift\n",
    "         3 -> after dot symbol does not match:          \n",
    "         2 -> dot at end \n",
    "    \"\"\"\n",
    "    global error\n",
    "    for heads in C['I' + str(i)]: # loop through each i's Head\n",
    "        for prods in C['I' + str(i)][heads]: # Loop through production array of the i's head\n",
    "            for j in range(len(prods) - 1):\n",
    "                # shift checking  \n",
    "                if prods[j] == '.' and prods[j + 1] == a: # symbol after dot is \"a\", okay for goto\n",
    "                    for k in range(len(C)):\n",
    "                        if GOTO(C['I' + str(i)], a) == C['I' + str(k)]: # goto of ith state matches to other state (k)\n",
    "                            if a in terminals: # a is termianl then reduce.\n",
    "                                if \"r\" in parse_table[i][terminals.index(a)]: # check r in i,a\n",
    "                                    if error!=1:\n",
    "                                        print(f\"ERROR: Shift-Reduce Conflict at State {str(i)}, Symbol \\' {str(terminals.index(a))} \\'\")\n",
    "                                    error=1\n",
    "                                    if \"s\"+str(k) not in parse_table[i][terminals.index(a)]:\n",
    "                                        parse_table[i][terminals.index(a)] = parse_table[i][terminals.index(a)]+ \"/s\" + str(k)\n",
    "                                    return parse_table[i][terminals.index(a)]\n",
    "                                else:\n",
    "                                    parse_table[i][terminals.index(a)] = \"s\" + str(k)\n",
    "                                    return \"s\" + str(k)\n",
    "                            else: # Non terminal so shift\n",
    "                                parse_table[i][len(terminals) + nonterminals.index(a)] = str(k) # i is row, position of a in table \n",
    "                            return str(k) #  value of goto state\n",
    "    \n",
    "    # after shift check fail \n",
    "    # to check if reduce\n",
    "    for heads in C['I' + str(i)]: # # loop through each i's Head\n",
    "        if heads != start:\n",
    "            for prods in C['I' + str(i)][heads]:\n",
    "                if prods[-1] == '.':             #final item for reduce.\n",
    "                    k = 0\n",
    "                    for head in G.keys():\n",
    "                        for Gprods in G[head]:\n",
    "                            if head == heads and (Gprods == prods[:-1] ) and (a in terminals or a == '$'):\n",
    "                                for terms in FOLLOW(heads):\n",
    "                                    if terms == '$':\n",
    "                                        index = len(terminals)\n",
    "                                    else:\n",
    "                                        index = terminals.index(terms)\n",
    "                                    if \"s\" in parse_table[i][index]: # if shift allready exist\n",
    "                                        if error!=1:\n",
    "                                            print(f\"ERROR: Shift-Reduce Conflict at State {str(i)}, Symbol \\' {str(terms)} \\'\")\n",
    "                                        error=1\n",
    "                                        if \"r\"+str(k) not in parse_table[i][index]:\n",
    "                                            parse_table[i][index] = parse_table[i][index]+ \"/r\" + str(k)\n",
    "                                        return parse_table[i][terminals.index(a)] # return state number,\n",
    "                                    elif parse_table[i][index] and parse_table[i][index] != \"r\" + str(k):\n",
    "                                        if error!=1:\n",
    "                                            print(f\"ERROR: Reduce-Reduce Conflict at State {str(i)}, Symbol \\' {str(terms)} \\'\")\n",
    "                                        error=1\n",
    "                                        if \"r\"+str(k) not in parse_table[i][index]:\n",
    "                                                parse_table[i][index] = parse_table[i][index]+ \"/r\" + str(k)\n",
    "                                        return parse_table[i][terminals.index(a)] # return state number,\n",
    "                                    else:\n",
    "                                        parse_table[i][index] = \"r\" + str(k)\n",
    "#                                 if         \n",
    "                                index = terminals.index(a)\n",
    "                                return parse_table[i][index]\n",
    "                            k += 1\n",
    "    if start in C['I' + str(i)] and G[start][0] + ['.'] in C['I' + str(i)][start]: \n",
    "        # S' -> S. Case\n",
    "        parse_table[i][len(terminals)] = \"acc\"\n",
    "        return \"acc\" # Return as accept\n",
    "#     parse_table[i][len(terminals)] = \"\"\n",
    "    return \"\" # return no action"
   ]
  },
  {
   "cell_type": "code",
   "execution_count": 257,
   "metadata": {},
   "outputs": [
    {
     "data": {
      "text/plain": [
       "{\"S'\": [['.', 'S']],\n",
       " 'S': [['.', 'L', '=', 'R'], ['.', 'R']],\n",
       " 'L': [['.', '*', 'R'], ['.', 'id']],\n",
       " 'R': [['.', 'L']]}"
      ]
     },
     "execution_count": 257,
     "metadata": {},
     "output_type": "execute_result"
    }
   ],
   "source": [
    "I0"
   ]
  },
  {
   "cell_type": "code",
   "execution_count": null,
   "metadata": {},
   "outputs": [],
   "source": [
    "print_table()"
   ]
  },
  {
   "cell_type": "code",
   "execution_count": 296,
   "metadata": {},
   "outputs": [
    {
     "data": {
      "text/plain": [
       "''"
      ]
     },
     "execution_count": 296,
     "metadata": {},
     "output_type": "execute_result"
    }
   ],
   "source": [
    "action_test = ACTION(2, \"S'\")\n",
    "action_test"
   ]
  },
  {
   "cell_type": "code",
   "execution_count": null,
   "metadata": {},
   "outputs": [],
   "source": [
    "parse_table"
   ]
  },
  {
   "cell_type": "code",
   "execution_count": 272,
   "metadata": {},
   "outputs": [
    {
     "name": "stdout",
     "output_type": "stream",
     "text": [
      "PARSING TABLE:\n",
      "+--------+--------+--------+--------+--------+--------+--------+--------+\n",
      "| STATE  |    =   |    *   |   id   |    $   |    S   |    L   |    R   | \n",
      "+--------+--------+--------+--------+--------+--------+--------+--------+\n",
      "|   0    |        |   s4   |   s5   |        |    1   |    2   |    3   | \n",
      "|   1    |        |        |        |   acc  |        |        |        | \n",
      "|   2    |  s6/r5 |        |        |   r5   |        |        |        | \n",
      "|   3    |        |        |        |   r2   |        |        |        | \n",
      "|   4    |        |   s4   |   s5   |        |        |    7   |    8   | \n",
      "|   5    |   r4   |        |        |   r4   |        |        |        | \n",
      "|   6    |        |   s4   |   s5   |        |        |    7   |    9   | \n",
      "|   7    |   r5   |        |        |   r5   |        |        |        | \n",
      "|   8    |   r3   |        |        |   r3   |        |        |        | \n",
      "|   9    |        |        |        |   r1   |        |        |        | \n",
      "+--------+--------+--------+--------+--------+--------+--------+--------+\n"
     ]
    }
   ],
   "source": [
    "print_table()"
   ]
  },
  {
   "cell_type": "code",
   "execution_count": 231,
   "metadata": {},
   "outputs": [
    {
     "data": {
      "text/plain": [
       "[\"S'\", 'S', 'L', 'R', '=', '*', 'id']"
      ]
     },
     "execution_count": 231,
     "metadata": {},
     "output_type": "execute_result"
    }
   ],
   "source": [
    "symbols"
   ]
  },
  {
   "cell_type": "code",
   "execution_count": 309,
   "metadata": {},
   "outputs": [],
   "source": [
    "def print_table():\n",
    "    for i in range(len(parse_table)):  #row 9      #len gives number of states\n",
    "        for j in symbols:              # col\n",
    "            ACTION(i, j)\n",
    "            \n",
    "    print(\"PARSING TABLE:\")\n",
    "    print(\"+\" + \"--------+\" * (len(symbols)+ 1))\n",
    "    print(\"|{:^8}|\".format('STATE'),end=\" \")\n",
    "    \n",
    "    for terms in terminals:\n",
    "        print(\"{:^7}|\".format(terms),end=\" \")\n",
    "        \n",
    "    print(\"{:^7}|\".format(\"$\"),end=\" \")\n",
    "   \n",
    "    for nonterms in nonterminals:\n",
    "        if nonterms == start:\n",
    "            continue\n",
    "        print(\"{:^7}|\".format(nonterms),end=\" \")\n",
    "    print(\"\\n+\" + \"--------+\" * (len(symbols) + 1))\n",
    "    \n",
    "    for i in range(len(parse_table)):\n",
    "        print(\"|{:^8}|\".format(i),end=' ')\n",
    "        for j in range(len(symbols)):\n",
    "            print(\"{:^7}|\".format(parse_table[i][j]),end=' ')\n",
    "        print()\n",
    "    print(\"+\" + \"--------+\" * (len(symbols) + 1))"
   ]
  },
  {
   "cell_type": "code",
   "execution_count": 310,
   "metadata": {},
   "outputs": [
    {
     "name": "stdout",
     "output_type": "stream",
     "text": [
      "PARSING TABLE:\n",
      "+--------+--------+--------+--------+--------+--------+--------+--------+\n",
      "| STATE  |    =   |    *   |   id   |    $   |    S   |    L   |    R   | \n",
      "+--------+--------+--------+--------+--------+--------+--------+--------+\n",
      "|   0    |        |   s4   |   s5   |        |    1   |    2   |    3   | \n",
      "|   1    |        |        |        |   acc  |        |        |        | \n",
      "|   2    |  s6/r5 |        |        |   r5   |        |        |        | \n",
      "|   3    |        |        |        |   r2   |        |        |        | \n",
      "|   4    |        |   s4   |   s5   |        |        |    7   |    8   | \n",
      "|   5    |   r4   |        |        |   r4   |        |        |        | \n",
      "|   6    |        |   s4   |   s5   |        |        |    7   |    9   | \n",
      "|   7    |   r5   |        |        |   r5   |        |        |        | \n",
      "|   8    |   r3   |        |        |   r3   |        |        |        | \n",
      "|   9    |        |        |        |   r1   |        |        |        | \n",
      "+--------+--------+--------+--------+--------+--------+--------+--------+\n"
     ]
    }
   ],
   "source": [
    "print_table()"
   ]
  },
  {
   "cell_type": "code",
   "execution_count": null,
   "metadata": {},
   "outputs": [],
   "source": []
  },
  {
   "cell_type": "code",
   "execution_count": null,
   "metadata": {},
   "outputs": [],
   "source": []
  },
  {
   "cell_type": "code",
   "execution_count": null,
   "metadata": {},
   "outputs": [],
   "source": []
  },
  {
   "cell_type": "code",
   "execution_count": null,
   "metadata": {},
   "outputs": [],
   "source": []
  },
  {
   "cell_type": "code",
   "execution_count": 307,
   "metadata": {},
   "outputs": [],
   "source": [
    "global parse_table\n",
    "\n",
    "no_of_rows = len(C) # No of States, right side of table\n",
    "no_of_cols = len(symbols)  # All symbols plus the state no\n",
    "parse_table = [[\"\" for c in range(no_of_cols) ] for r in range(no_of_rows)]\n",
    "# print_table()"
   ]
  },
  {
   "cell_type": "code",
   "execution_count": 308,
   "metadata": {},
   "outputs": [
    {
     "data": {
      "text/plain": [
       "[['', '', '', '', '', '', ''],\n",
       " ['', '', '', '', '', '', ''],\n",
       " ['', '', '', '', '', '', ''],\n",
       " ['', '', '', '', '', '', ''],\n",
       " ['', '', '', '', '', '', ''],\n",
       " ['', '', '', '', '', '', ''],\n",
       " ['', '', '', '', '', '', ''],\n",
       " ['', '', '', '', '', '', ''],\n",
       " ['', '', '', '', '', '', ''],\n",
       " ['', '', '', '', '', '', '']]"
      ]
     },
     "execution_count": 308,
     "metadata": {},
     "output_type": "execute_result"
    }
   ],
   "source": [
    "parse_table"
   ]
  },
  {
   "cell_type": "markdown",
   "metadata": {},
   "source": []
  },
  {
   "cell_type": "code",
   "execution_count": 39,
   "metadata": {},
   "outputs": [
    {
     "data": {
      "text/plain": [
       "{\"S'\": [['S']],\n",
       " 'S': [['L', '=', 'R'], ['R']],\n",
       " 'L': [['*', 'R'], ['id']],\n",
       " 'R': [['L']]}"
      ]
     },
     "execution_count": 39,
     "metadata": {},
     "output_type": "execute_result"
    }
   ],
   "source": [
    "G"
   ]
  },
  {
   "cell_type": "code",
   "execution_count": 38,
   "metadata": {},
   "outputs": [
    {
     "name": "stdout",
     "output_type": "stream",
     "text": [
      "GRAMMAR:\n",
      " S -> L = R | R \n",
      " L -> * R | id \n",
      " R -> L \n",
      "\n",
      "AUGMENTED GRAMMAR:\n",
      "0: S' -> S\n",
      "1: S -> L = R\n",
      "2: S -> R\n",
      "3: L -> * R\n",
      "4: L -> id\n",
      "5: R -> L\n",
      "\n",
      "TERMINALS    : ['=', '*', 'id']\n",
      "NONTERMINALS : [\"S'\", 'S', 'L', 'R']\n",
      "SYMBOLS      : [\"S'\", 'S', 'L', 'R', '=', '*', 'id']\n",
      "\n",
      "FIRST:\n",
      "S' = { * , id }\n",
      "S = { * , id }\n",
      "L = { * , id }\n",
      "R = { * , id }\n",
      "\n",
      "FOLLOW:\n",
      "S' = { $ }\n",
      "S = { $ }\n",
      "L = { = , $ }\n",
      "R = { $ , = }\n",
      "\n",
      "ITEMS:\n",
      "I0:\n",
      "  S' -> . S\n",
      "  S -> . L = R\n",
      "  S -> . R\n",
      "  L -> . * R\n",
      "  L -> . id\n",
      "  R -> . L\n",
      "\n",
      "I1:\n",
      "  S' -> S .\n",
      "\n",
      "I2:\n",
      "  S -> L . = R\n",
      "  R -> L .\n",
      "\n",
      "I3:\n",
      "  S -> R .\n",
      "\n",
      "I4:\n",
      "  L -> * . R\n",
      "  L -> . * R\n",
      "  L -> . id\n",
      "  R -> . L\n",
      "\n",
      "I5:\n",
      "  L -> id .\n",
      "\n",
      "I6:\n",
      "  S -> L = . R\n",
      "  R -> . L\n",
      "  L -> . * R\n",
      "  L -> . id\n",
      "\n",
      "I7:\n",
      "  R -> L .\n",
      "\n",
      "I8:\n",
      "  L -> * R .\n",
      "\n",
      "I9:\n",
      "  S -> L = R .\n",
      "\n",
      "ERROR: Shift-Reduce Conflict at State 2, Symbol ' = '\n",
      "PARSING TABLE:\n",
      "+--------+--------+--------+--------+--------+--------+--------+--------+\n",
      "| STATE  |    =   |    *   |   id   |    $   |    S   |    L   |    R   | \n",
      "+--------+--------+--------+--------+--------+--------+--------+--------+\n",
      "|   0    |        |   s4   |   s5   |        |    1   |    2   |    3   | \n",
      "|   1    |        |        |        |   acc  |        |        |        | \n",
      "|   2    |  s6/r5 |        |        |   r5   |        |        |        | \n",
      "|   3    |        |        |        |   r2   |        |        |        | \n",
      "|   4    |        |   s4   |   s5   |        |        |    7   |    8   | \n",
      "|   5    |   r4   |        |        |   r4   |        |        |        | \n",
      "|   6    |        |   s4   |   s5   |        |        |    7   |    9   | \n",
      "|   7    |   r5   |        |        |   r5   |        |        |        | \n",
      "|   8    |   r3   |        |        |   r3   |        |        |        | \n",
      "|   9    |        |        |        |   r1   |        |        |        | \n",
      "+--------+--------+--------+--------+--------+--------+--------+--------+\n"
     ]
    }
   ],
   "source": [
    "G = {} # Augmented Grammar \n",
    "C = {} # I haru bascha\n",
    "start = \"\" # S'\n",
    "terminals = [] # \n",
    "nonterminals = [] #\n",
    "symbols = [] # terminals + non terminals\n",
    "error=0 # \n",
    "EPSILON = \"/E\" # \n",
    "\n",
    "grammars = open(\"grammar.txt\")\n",
    "\n",
    "\n",
    "parse_grammar(grammars)\n",
    "print_grammar()\n",
    "    \n",
    "print_first()\n",
    "print_follow()\n",
    "\n",
    "items()\n",
    "print_item()\n",
    "\n",
    "global parse_table\n",
    "no_of_rows = len(C) # No of States, right side of table\n",
    "no_of_cols = len(symbols)  # All symbols plus the state no - S'\n",
    "# no_of_cols\n",
    "# parse_table = [[\"\" for c in range(len(terminals) + len(nonterminals) + 1)] for r in range(len(C))]\n",
    "parse_table = [[\"\" for c in range(no_of_cols) ] for r in range(no_of_rows)]\n",
    "\n",
    "print_table()\n",
    "\n",
    "# process_input()\n"
   ]
  },
  {
   "cell_type": "code",
   "execution_count": null,
   "metadata": {},
   "outputs": [],
   "source": []
  },
  {
   "cell_type": "markdown",
   "metadata": {},
   "source": [
    "<img src=\"3g.jpg\" alt=\"Drawing\" style=\"width: 700px;\"/>"
   ]
  },
  {
   "cell_type": "code",
   "execution_count": null,
   "metadata": {},
   "outputs": [],
   "source": [
    "print_grammar()"
   ]
  },
  {
   "cell_type": "code",
   "execution_count": 311,
   "metadata": {},
   "outputs": [
    {
     "name": "stdout",
     "output_type": "stream",
     "text": [
      "PARSING TABLE:\n",
      "+--------+--------+--------+--------+--------+--------+--------+--------+\n",
      "| STATE  |    =   |    *   |   id   |    $   |    S   |    L   |    R   | \n",
      "+--------+--------+--------+--------+--------+--------+--------+--------+\n",
      "|   0    |        |   s4   |   s5   |        |    1   |    2   |    3   | \n",
      "|   1    |        |        |        |   acc  |        |        |        | \n",
      "|   2    |  s6/r5 |        |        |   r5   |        |        |        | \n",
      "|   3    |        |        |        |   r2   |        |        |        | \n",
      "|   4    |        |   s4   |   s5   |        |        |    7   |    8   | \n",
      "|   5    |   r4   |        |        |   r4   |        |        |        | \n",
      "|   6    |        |   s4   |   s5   |        |        |    7   |    9   | \n",
      "|   7    |   r5   |        |        |   r5   |        |        |        | \n",
      "|   8    |   r3   |        |        |   r3   |        |        |        | \n",
      "|   9    |        |        |        |   r1   |        |        |        | \n",
      "+--------+--------+--------+--------+--------+--------+--------+--------+\n"
     ]
    }
   ],
   "source": [
    "print_table()"
   ]
  },
  {
   "cell_type": "code",
   "execution_count": null,
   "metadata": {},
   "outputs": [],
   "source": []
  },
  {
   "cell_type": "code",
   "execution_count": 349,
   "metadata": {},
   "outputs": [],
   "source": [
    "def look_at_parse_table(top_stack,curr_symbol):\n",
    "    \"\"\"\n",
    "        top_stack  -> no. of state\n",
    "    \"\"\"\n",
    "    if curr_symbol==\"$\":\n",
    "        start_index  = len(terminals) # terminal \n",
    "        return parse_table[top_stack][start_index]\n",
    "    elif curr_symbol in terminals:\n",
    "        term_index = terminals.index(curr_symbol)\n",
    "        return parse_table[top_stack][term_index]\n",
    "    elif curr_symbol in nonterminals:\n",
    "        nonterm_index = len(terminals) + nonterminals.index(curr_symbol)\n",
    "#         print(nonterm_index)\n",
    "        return parse_table[top_stack][nonterm_index]\n",
    "    else:\n",
    "        return \"none\""
   ]
  },
  {
   "cell_type": "code",
   "execution_count": null,
   "metadata": {},
   "outputs": [],
   "source": [
    "look_at_parse_table(0,\"R\")"
   ]
  },
  {
   "cell_type": "code",
   "execution_count": null,
   "metadata": {},
   "outputs": [],
   "source": [
    "*,id,$"
   ]
  },
  {
   "cell_type": "code",
   "execution_count": 328,
   "metadata": {},
   "outputs": [],
   "source": [
    "isn = \"   * id    \" "
   ]
  },
  {
   "cell_type": "code",
   "execution_count": 329,
   "metadata": {},
   "outputs": [
    {
     "data": {
      "text/plain": [
       "'   * id     $'"
      ]
     },
     "execution_count": 329,
     "metadata": {},
     "output_type": "execute_result"
    }
   ],
   "source": [
    "isn + \" $\""
   ]
  },
  {
   "cell_type": "code",
   "execution_count": 330,
   "metadata": {},
   "outputs": [
    {
     "data": {
      "text/plain": [
       "['*', 'id', '$']"
      ]
     },
     "execution_count": 330,
     "metadata": {},
     "output_type": "execute_result"
    }
   ],
   "source": [
    "(isn + \" $\").split()"
   ]
  },
  {
   "cell_type": "code",
   "execution_count": null,
   "metadata": {},
   "outputs": [],
   "source": []
  },
  {
   "cell_type": "code",
   "execution_count": null,
   "metadata": {},
   "outputs": [],
   "source": []
  },
  {
   "cell_type": "code",
   "execution_count": 326,
   "metadata": {},
   "outputs": [
    {
     "data": {
      "text/plain": [
       "'* id $'"
      ]
     },
     "execution_count": 326,
     "metadata": {},
     "output_type": "execute_result"
    }
   ],
   "source": [
    "\" \".join((isn + \" $\").split())"
   ]
  },
  {
   "cell_type": "code",
   "execution_count": 327,
   "metadata": {},
   "outputs": [
    {
     "data": {
      "text/plain": [
       "['*', 'id', '$']"
      ]
     },
     "execution_count": 327,
     "metadata": {},
     "output_type": "execute_result"
    }
   ],
   "source": [
    "\" \".join((isn + \" $\").split()).split(\" \")"
   ]
  },
  {
   "cell_type": "code",
   "execution_count": 369,
   "metadata": {},
   "outputs": [
    {
     "data": {
      "text/plain": [
       "'   * id    '"
      ]
     },
     "execution_count": 369,
     "metadata": {},
     "output_type": "execute_result"
    }
   ],
   "source": [
    "isn"
   ]
  },
  {
   "cell_type": "code",
   "execution_count": 368,
   "metadata": {},
   "outputs": [
    {
     "data": {
      "text/plain": [
       "['*', 'id', '$']"
      ]
     },
     "execution_count": 368,
     "metadata": {},
     "output_type": "execute_result"
    }
   ],
   "source": [
    "to_parse = (isn + \" $\").split()\n",
    "to_parse"
   ]
  },
  {
   "cell_type": "code",
   "execution_count": 381,
   "metadata": {},
   "outputs": [
    {
     "name": "stdout",
     "output_type": "stream",
     "text": [
      "\n",
      "+--------+----------------------------+----------------------------+----------------------------+\n",
      "|  STEP  |           STACK            |           INPUT            |           ACTION           | +--------+----------------------------+----------------------------+----------------------------+\n",
      "|   1    | 0                          |                       *id$ |              s4            |\n",
      "|   2    | 0*4                        |                        id$ |              s5            |\n",
      "|   3    | 0*4id5                     |                          $ |              r4            |\n",
      "|   4    | 0*4L7                      |                          $ |              r5            |\n",
      "|   5    | 0*4R8                      |                          $ |              r3            |\n",
      "|   6    | 0L2                        |                          $ |              r5            |\n",
      "|   7    | 0R3                        |                          $ |              r2            |\n",
      "|   8    | 0S1                        |                          $ |           ACCEPTED         |\n",
      "+--------+----------------------------+----------------------------+----------------------------+\n"
     ]
    }
   ],
   "source": [
    "process_input(isn)"
   ]
  },
  {
   "cell_type": "code",
   "execution_count": 387,
   "metadata": {},
   "outputs": [
    {
     "name": "stdout",
     "output_type": "stream",
     "text": [
      "PARSING TABLE:\n",
      "+--------+--------+--------+--------+--------+--------+--------+--------+\n",
      "| STATE  |    =   |    *   |   id   |    $   |    S   |    L   |    R   | \n",
      "+--------+--------+--------+--------+--------+--------+--------+--------+\n",
      "|   0    |        |   s4   |   s5   |        |    1   |    2   |    3   | \n",
      "|   1    |        |        |        |   acc  |        |        |        | \n",
      "|   2    |  s6/r5 |        |        |   r5   |        |        |        | \n",
      "|   3    |        |        |        |   r2   |        |        |        | \n",
      "|   4    |        |   s4   |   s5   |        |        |    7   |    8   | \n",
      "|   5    |   r4   |        |        |   r4   |        |        |        | \n",
      "|   6    |        |   s4   |   s5   |        |        |    7   |    9   | \n",
      "|   7    |   r5   |        |        |   r5   |        |        |        | \n",
      "|   8    |   r3   |        |        |   r3   |        |        |        | \n",
      "|   9    |        |        |        |   r1   |        |        |        | \n",
      "+--------+--------+--------+--------+--------+--------+--------+--------+\n"
     ]
    }
   ],
   "source": [
    "print_table()"
   ]
  },
  {
   "cell_type": "code",
   "execution_count": 386,
   "metadata": {},
   "outputs": [],
   "source": [
    "def process_input(get_input):\n",
    "#     get_input = input(\"\\nEnter Input: \")\n",
    "    to_parse = (get_input + \" $\").split()\n",
    "#     * id\n",
    "    curr_pointer = 0  # Current input symbol pointer\n",
    "    stack = ['0']\n",
    "\n",
    "    print(\"\\n+--------+----------------------------+----------------------------+----------------------------+\")\n",
    "    print(\"|{:^8}|{:^28}|{:^28}|{:^28}|\".format(\"STEP\", \"STACK\", \"INPUT\", \"ACTION\"))\n",
    "    print(\"+--------+----------------------------+----------------------------+----------------------------+\")\n",
    "\n",
    "    step = 1\n",
    "    while True:\n",
    "        curr_symbol = to_parse[curr_pointer]\n",
    "        top_stack = int(stack[-1])\n",
    "#         stack_content = \"\"\n",
    "        input_content = \"\"\n",
    "\n",
    "        print(\"|{:^8}|\".format(step),end=\" \")\n",
    "        \n",
    "        stack_content = \"\".join(stack)\n",
    "        print(\"{:27}|\".format(stack_content),end=' ')\n",
    "#         input_content = \"\".join(to_parse)\n",
    "        i = curr_pointer\n",
    "        while i < len(to_parse):\n",
    "            input_content += to_parse[i]\n",
    "            i += 1\n",
    "        print(\"{:>26} | \".format(input_content),end=' ')\n",
    "\n",
    "        step += 1\n",
    "        \n",
    "        get_action = look_at_parse_table(top_stack,curr_symbol)\n",
    "        \n",
    "#         get_action = ACTION(top_stack, curr_symbol)\n",
    "        if \"/\" in get_action:\n",
    "            print(\"{:^26}|\".format(get_action+\". So conflict\"))\n",
    "            break\n",
    "        if \"s\" in get_action:\n",
    "            print(\"{:^26}|\".format(get_action))\n",
    "            stack.append(curr_symbol)\n",
    "            stack.append(get_action[1:])\n",
    "            curr_pointer += 1\n",
    "        elif \"r\" in get_action:\n",
    "            print(\"{:^26}|\".format(get_action))\n",
    "            i = 0\n",
    "            for head in G.keys():\n",
    "                for prods in G[head]:\n",
    "                    if i == int(get_action[1:]):\n",
    "                        for j in range(2 * len(prods)):\n",
    "                            stack.pop()\n",
    "                        state = stack[-1]\n",
    "                        stack.append(head)\n",
    "                        stack.append(parse_table[int(state)][len(terminals) + nonterminals.index(head)])\n",
    "                    i += 1\n",
    "        elif get_action == \"acc\":\n",
    "            print(\"{:^26}|\".format(\"ACCEPTED\"))\n",
    "            break\n",
    "        elif get_action == \"\" :\n",
    "#             print(f\"ERROR: Unrecognized symbol {curr_symbol} |\")\n",
    "            print(\"{:^26}|\".format(\"Not Accepted \"))\n",
    "            break\n",
    "        else:\n",
    "            print(f\"Error : Invalid symbol {curr_symbol}  |\")\n",
    "#             print(\"{:^26}|\".format(\"Not Accepted \"))\n",
    "#             print(f\"ERROR: Unrecognized symbol {curr_symbol} |\")\n",
    "            break\n",
    "    print(\"+--------+----------------------------+----------------------------+----------------------------+\")"
   ]
  },
  {
   "cell_type": "code",
   "execution_count": null,
   "metadata": {},
   "outputs": [],
   "source": [
    "print_grammar()"
   ]
  },
  {
   "cell_type": "code",
   "execution_count": 223,
   "metadata": {},
   "outputs": [
    {
     "data": {
      "text/plain": [
       "[['', 's4', 's5', '', '1', '2', '3', ''],\n",
       " ['', '', '', 'acc', '', '', '', ''],\n",
       " ['s6/r5', '', '', 'r5', '', '', '', ''],\n",
       " ['', '', '', 'r2', '', '', '', ''],\n",
       " ['', 's4', 's5', '', '', '7', '8', ''],\n",
       " ['r4', '', '', 'r4', '', '', '', ''],\n",
       " ['', 's4', 's5', '', '', '7', '9', ''],\n",
       " ['r5', '', '', 'r5', '', '', '', ''],\n",
       " ['r3', '', '', 'r3', '', '', '', ''],\n",
       " ['', '', '', 'r1', '', '', '', '']]"
      ]
     },
     "execution_count": 223,
     "metadata": {},
     "output_type": "execute_result"
    }
   ],
   "source": [
    "parse_table"
   ]
  },
  {
   "cell_type": "code",
   "execution_count": 315,
   "metadata": {},
   "outputs": [
    {
     "name": "stdout",
     "output_type": "stream",
     "text": [
      "PARSING TABLE:\n",
      "+--------+--------+--------+--------+--------+--------+--------+--------+\n",
      "| STATE  |    =   |    *   |   id   |    $   |    S   |    L   |    R   | \n",
      "+--------+--------+--------+--------+--------+--------+--------+--------+\n",
      "|   0    |        |   s4   |   s5   |        |    1   |    2   |    3   | \n",
      "|   1    |        |        |        |   acc  |        |        |        | \n",
      "|   2    |  s6/r5 |        |        |   r5   |        |        |        | \n",
      "|   3    |        |        |        |   r2   |        |        |        | \n",
      "|   4    |        |   s4   |   s5   |        |        |    7   |    8   | \n",
      "|   5    |   r4   |        |        |   r4   |        |        |        | \n",
      "|   6    |        |   s4   |   s5   |        |        |    7   |    9   | \n",
      "|   7    |   r5   |        |        |   r5   |        |        |        | \n",
      "|   8    |   r3   |        |        |   r3   |        |        |        | \n",
      "|   9    |        |        |        |   r1   |        |        |        | \n",
      "+--------+--------+--------+--------+--------+--------+--------+--------+\n"
     ]
    }
   ],
   "source": [
    "print_table()"
   ]
  },
  {
   "cell_type": "code",
   "execution_count": 362,
   "metadata": {},
   "outputs": [
    {
     "name": "stdout",
     "output_type": "stream",
     "text": [
      "\n",
      "+--------+----------------------------+----------------------------+----------------------------+\n",
      "|  STEP  |           STACK            |           INPUT            |           ACTION           | +--------+----------------------------+----------------------------+----------------------------+\n",
      "|   1    | 0                          |                     id*id$ |              s5            |\n",
      "|   2    | 0id5                       |                       *id$ |        Not Accepted        |\n",
      "+--------+----------------------------+----------------------------+----------------------------+\n"
     ]
    }
   ],
   "source": [
    "get_input = \"id * id   \"\n",
    "process_input(get_input)"
   ]
  },
  {
   "cell_type": "raw",
   "metadata": {},
   "source": [
    "+--------+----------------------------+----------------------------+----------------------------+\n",
    "|  STEP  |           STACK            |           INPUT            |           ACTION           | +--------+----------------------------+----------------------------+----------------------------+\n",
    "|   1    | 0                          |                       *id$ |              s4            |\n",
    "|   2    | 0*4                        |                        id$ |              s5            |\n",
    "|   3    | 0*4id5                     |                          $ |              r4            |\n",
    "|   4    | 0*4L7                      |                          $ |              r5            |\n",
    "|   5    | 0*4R8                      |                          $ |              r3            |\n",
    "|   6    | 0L2                        |                          $ |              r5            |\n",
    "|   7    | 0R3                        |                          $ |              r2            | \n",
    "|   8    | 0S1                        |                          $ |             accept         |\n"
   ]
  },
  {
   "cell_type": "code",
   "execution_count": 238,
   "metadata": {},
   "outputs": [
    {
     "name": "stdout",
     "output_type": "stream",
     "text": [
      "GRAMMAR:\n",
      " S -> L = R | R \n",
      " L -> * R | id \n",
      " R -> L \n",
      "\n",
      "AUGMENTED GRAMMAR:\n",
      "0: S' -> S\n",
      "1: S -> L = R\n",
      "2: S -> R\n",
      "3: L -> * R\n",
      "4: L -> id\n",
      "5: R -> L\n",
      "\n",
      "TERMINALS    : ['=', '*', 'id']\n",
      "NONTERMINALS : [\"S'\", 'S', 'L', 'R']\n",
      "SYMBOLS      : [\"S'\", 'S', 'L', 'R', '=', '*', 'id']\n",
      "\n",
      "FIRST:\n",
      "S' = { * , id }\n",
      "S = { * , id }\n",
      "L = { * , id }\n",
      "R = { * , id }\n",
      "\n",
      "FOLLOW:\n",
      "S' = { $ }\n",
      "S = { $ }\n",
      "L = { = , $ }\n",
      "R = { $ , = }\n",
      "\n",
      "ITEMS:\n",
      "I0:\n",
      "  S' -> . S\n",
      "  S -> . L = R\n",
      "  S -> . R\n",
      "  L -> . * R\n",
      "  L -> . id\n",
      "  R -> . L\n",
      "\n",
      "I1:\n",
      "  S' -> S .\n",
      "\n",
      "I2:\n",
      "  S -> L . = R\n",
      "  R -> L .\n",
      "\n",
      "I3:\n",
      "  S -> R .\n",
      "\n",
      "I4:\n",
      "  L -> * . R\n",
      "  L -> . * R\n",
      "  L -> . id\n",
      "  R -> . L\n",
      "\n",
      "I5:\n",
      "  L -> id .\n",
      "\n",
      "I6:\n",
      "  S -> L = . R\n",
      "  R -> . L\n",
      "  L -> . * R\n",
      "  L -> . id\n",
      "\n",
      "I7:\n",
      "  R -> L .\n",
      "\n",
      "I8:\n",
      "  L -> * R .\n",
      "\n",
      "I9:\n",
      "  S -> L = R .\n",
      "\n",
      "ERROR: Shift-Reduce Conflict at State 2, Symbol ' = '\n",
      "PARSING TABLE:\n",
      "+--------+--------+--------+--------+--------+--------+--------+--------+\n",
      "| STATE  |    =   |    *   |   id   |    $   |    S   |    L   |    R   | \n",
      "+--------+--------+--------+--------+--------+--------+--------+--------+\n",
      "|   0    |        |   s4   |   s5   |        |    1   |    2   |    3   | \n",
      "|   1    |        |        |        |   acc  |        |        |        | \n",
      "|   2    |  s6/r5 |        |        |   r5   |        |        |        | \n",
      "|   3    |        |        |        |   r2   |        |        |        | \n",
      "|   4    |        |   s4   |   s5   |        |        |    7   |    8   | \n",
      "|   5    |   r4   |        |        |   r4   |        |        |        | \n",
      "|   6    |        |   s4   |   s5   |        |        |    7   |    9   | \n",
      "|   7    |   r5   |        |        |   r5   |        |        |        | \n",
      "|   8    |   r3   |        |        |   r3   |        |        |        | \n",
      "|   9    |        |        |        |   r1   |        |        |        | \n",
      "+--------+--------+--------+--------+--------+--------+--------+--------+\n"
     ]
    },
    {
     "name": "stdin",
     "output_type": "stream",
     "text": [
      "\n",
      "Enter Input:  * id\n"
     ]
    },
    {
     "name": "stdout",
     "output_type": "stream",
     "text": [
      "\n",
      "+--------+----------------------------+----------------------------+----------------------------+\n",
      "|  STEP  |           STACK            |           INPUT            |           ACTION           |\n",
      "+--------+----------------------------+----------------------------+----------------------------+\n",
      "|   1    | 0                          |                       *id$ |              s4            |\n",
      "|   2    | 0*4                        |                        id$ |              s5            |\n",
      "|   3    | 0*4id5                     |                          $ |              r4            |\n",
      "|   4    | 0*4L7                      |                          $ |              r5            |\n",
      "|   5    | 0*4R8                      |                          $ |              r3            |\n",
      "|   6    | 0L2                        |                          $ |              r5            |\n",
      "|   7    | 0R3                        |                          $ |              r2            |\n",
      "|   8    | 0S1                        |                          $ |           ACCEPTED         |\n",
      "+--------+----------------------------+----------------------------+----------------------------+\n"
     ]
    }
   ],
   "source": []
  },
  {
   "cell_type": "code",
   "execution_count": 398,
   "metadata": {},
   "outputs": [],
   "source": [
    "I = {}\n",
    "J = {}\n",
    "relation = []\n",
    "r1 = []\n",
    "\n",
    "def construct_dfa():\n",
    "    Z = []\n",
    "    pd = []\n",
    "#     print(\"\\nITEMS:\")\n",
    "    for i in range(len(C)):\n",
    "#         print(f\"I{str(i)} :\")\n",
    "        I[i] = 'I' + str(i)\n",
    "        Z = \"\"\n",
    "        for keys in C['I' + str(i)]: # keys = head\n",
    "            Y = \"\"\n",
    "            for prods in C['I' + str(i)][keys]:\n",
    "                # print(G)\n",
    "#                 zzz = \"{:>{width}} ->\".format(keys, width=len(max(G.keys(), key=len)))\n",
    "                zzz = f\" {keys} ->\"\n",
    "                pd = \"\"\n",
    "\n",
    "                Z = Z + zzz\n",
    "#                 print(zzz,end=' ')\n",
    "                pd = ''.join(prods)\n",
    "#                 print(pd)\n",
    "                \n",
    "                Z = Z + pd + \"\\n\"\n",
    "#                 print(f\"z {Z}\")\n",
    "#                 print()\n",
    "            Y = Y + Z\n",
    "#         print()\n",
    "#         print(\"J\")\n",
    "        J[i] = Y\n",
    "#         print(Y,end=' ')\n",
    "        \n",
    "    for i in range(len(parse_table)):\n",
    "        for j in symbols:\n",
    "            ACTION(i, j)\n",
    "    global dot\n",
    "\n",
    "    dot = Digraph()\n",
    "    \n",
    "    for i in range(len(C)):\n",
    "        for a in symbols:\n",
    "            rel = look_at_parse_table(i,a)\n",
    "            if rel:\n",
    "                # print rel\n",
    "                if (len(rel) == 1):\n",
    "                    r = int(rel)\n",
    "                else:\n",
    "                    if (rel == 'acc') or (rel[0] == 'r'):\n",
    "                        continue\n",
    "                    elif '/' in rel:\n",
    "                        spos = rel.index('s')\n",
    "                        rel = rel[spos:spos + 2]\n",
    "#                         print(rel)\n",
    "                        r = int(rel[1:3])\n",
    "                    else:\n",
    "                        # print rel\n",
    "                        r = int(rel[1:3])\n",
    "\n",
    "#                 print(\"node %d relates to %s for %s\" % (i, r, a))\n",
    "                relation.append(chr(i + 97) + chr(r + 97))\n",
    "                r1.append(a)\n",
    "\n",
    "#     print(relation,end=' ')\n",
    "#     print(r1,end=' ')\n",
    "\n",
    "    M = [v for v in I.values()]\n",
    "    N = [v for v in J.values()]\n",
    "\n",
    "    for i in range(len(C)):\n",
    "        dot.node(chr(97 + i), N[i], xlabel=M[i])\n",
    "\n",
    "    for i in range(len(relation)):\n",
    "        dot.edge(relation[i][0], relation[i][1], label=r1[i])\n",
    "#     dot.render('./test.gv.svg', view=True)\n",
    "    dot.render(filename='g1.dot')"
   ]
  },
  {
   "cell_type": "code",
   "execution_count": 399,
   "metadata": {},
   "outputs": [],
   "source": [
    "construct_dfa()"
   ]
  },
  {
   "cell_type": "code",
   "execution_count": null,
   "metadata": {},
   "outputs": [],
   "source": [
    "%ls"
   ]
  },
  {
   "cell_type": "code",
   "execution_count": 400,
   "metadata": {},
   "outputs": [
    {
     "name": "stderr",
     "output_type": "stream",
     "text": [
      "UsageError: Line magic function `%dot` not found.\n"
     ]
    }
   ],
   "source": [
    "%dot"
   ]
  },
  {
   "cell_type": "code",
   "execution_count": null,
   "metadata": {},
   "outputs": [],
   "source": [
    "%cat grammar.txt"
   ]
  },
  {
   "cell_type": "code",
   "execution_count": 394,
   "metadata": {},
   "outputs": [
    {
     "name": "stderr",
     "output_type": "stream",
     "text": [
      "UsageError: Line magic function `%dot` not found.\n"
     ]
    }
   ],
   "source": [
    "%dot -Tpng g1.dot -o okay2.png "
   ]
  },
  {
   "cell_type": "markdown",
   "metadata": {},
   "source": [
    "<img src=\"ok.png\" alt=\"Drawing\" style=\"width: 700px;\"/>"
   ]
  }
 ],
 "metadata": {
  "kernelspec": {
   "display_name": "Python 3",
   "language": "python",
   "name": "python3"
  },
  "language_info": {
   "codemirror_mode": {
    "name": "ipython",
    "version": 3
   },
   "file_extension": ".py",
   "mimetype": "text/x-python",
   "name": "python",
   "nbconvert_exporter": "python",
   "pygments_lexer": "ipython3",
   "version": "3.8.3"
  }
 },
 "nbformat": 4,
 "nbformat_minor": 4
}
